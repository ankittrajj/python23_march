{
 "cells": [
  {
   "cell_type": "code",
   "execution_count": 6,
   "id": "3ee90f37",
   "metadata": {},
   "outputs": [
    {
     "name": "stdout",
     "output_type": "stream",
     "text": [
      "hello bhai\n"
     ]
    }
   ],
   "source": [
    "class hello:\n",
    "    def greet(self):\n",
    "        print('hello bhai')\n",
    "        \n",
    "x = hello()\n",
    "x.greet()"
   ]
  },
  {
   "cell_type": "code",
   "execution_count": 11,
   "id": "f4e9ead6",
   "metadata": {},
   "outputs": [
    {
     "name": "stdout",
     "output_type": "stream",
     "text": [
      "The value of x & y is 1 2\n",
      "hello bhai mai constructor se pehele mil jaunga !!\n"
     ]
    }
   ],
   "source": [
    "class add:\n",
    "    def hello(self):\n",
    "        print(\"hello bhai mai constructor se pehele mil jaunga !!\")\n",
    "        \n",
    "    def __init__(self,x,y):\n",
    "        self.x=x\n",
    "        self.y=y\n",
    "        print(\"The value of x & y is\",x,y)\n",
    "        \n",
    "a = add(1,2)\n",
    "a.hello()"
   ]
  },
  {
   "cell_type": "code",
   "execution_count": 12,
   "id": "75daa783",
   "metadata": {},
   "outputs": [
    {
     "name": "stdout",
     "output_type": "stream",
     "text": [
      "The value of x & y is 1 2\n",
      "hello bhai mai constructor se pehele mil jaunga !!\n"
     ]
    }
   ],
   "source": [
    "class add:   \n",
    "    def __init__(self,x,y):\n",
    "        self.x=x\n",
    "        self.y=y\n",
    "        print(\"The value of x & y is\",x,y)\n",
    "        \n",
    "    def hello(self):\n",
    "        print(\"hello bhai mai constructor se pehele mil jaunga !!\")\n",
    "        \n",
    "a = add(1,2)\n",
    "a.hello()"
   ]
  },
  {
   "cell_type": "code",
   "execution_count": 13,
   "id": "3da2b907",
   "metadata": {},
   "outputs": [
    {
     "name": "stdout",
     "output_type": "stream",
     "text": [
      "Name is---> A\n",
      "Age is----> 21\n",
      "Salary is----> 20\n"
     ]
    },
    {
     "data": {
      "text/plain": [
       "<__main__.emp at 0x225c23816d0>"
      ]
     },
     "execution_count": 13,
     "metadata": {},
     "output_type": "execute_result"
    }
   ],
   "source": [
    "#wap and make a class of emp having properties of name , age & salary and \n",
    "# try to get the ouput of the data with the help of constructor!!\n",
    "\n",
    "class emp:\n",
    "    def __init__(self,name,age,salary):\n",
    "        self.name=name\n",
    "        self.age=age\n",
    "        self.salary=salary\n",
    "        print(\"Name is--->\",name)\n",
    "        print('Age is---->',age)\n",
    "        print('Salary is---->',salary)\n",
    "\n",
    "    \n",
    "        \n",
    "emp('A',21,20)\n",
    "        \n",
    "    \n"
   ]
  },
  {
   "cell_type": "code",
   "execution_count": 24,
   "id": "6a267dc3",
   "metadata": {},
   "outputs": [
    {
     "name": "stdout",
     "output_type": "stream",
     "text": [
      "A 23 67\n",
      "1 2\n"
     ]
    }
   ],
   "source": [
    "#wap and make a class of emp having properties of name , age & salary and \n",
    "# try to get the ouput of the data with the help of constructor!!\n",
    "\n",
    "class emp:\n",
    "    def __init__(self,name,age,salary):\n",
    "        self.name=name\n",
    "        self.age=age\n",
    "        self.salary=salary\n",
    "        \n",
    "    def details(self,x,y):\n",
    "        print(self.name,self.age,self.salary)\n",
    "        print(x,y)\n",
    "        \n",
    "\n",
    "    \n",
    "        \n",
    "a = emp('A',23,67)\n",
    "a.details(1,2)\n",
    "        \n",
    "    \n"
   ]
  },
  {
   "cell_type": "code",
   "execution_count": 34,
   "id": "2ccb4d03",
   "metadata": {},
   "outputs": [
    {
     "name": "stdout",
     "output_type": "stream",
     "text": [
      "name is ----> A\n",
      "Avg salary is---> 2.0\n"
     ]
    }
   ],
   "source": [
    "#wap and make a class of emp having properties of name , age & salary and \n",
    "# try to get the ouput of the data with the help of constructor!!\n",
    "# also find the avg salary of the emp. \n",
    "\n",
    "class emp:\n",
    "    def __init__(self,name,age,salary):\n",
    "        self.name=name\n",
    "        self.age=age\n",
    "        self.salary=salary\n",
    "       \n",
    "        \n",
    "        \n",
    "    def avg_salary(self,s1,s2,s3):\n",
    "        sal = (s1+s2+s3)/3\n",
    "        print(\"name is ---->\",self.name)\n",
    "        print(\"Avg salary is--->\",sal)\n",
    "        \n",
    "    \n",
    "        \n",
    "        \n",
    "        \n",
    "a = emp('A',23,67)\n",
    "a.avg_salary(1,2,3)\n"
   ]
  },
  {
   "cell_type": "code",
   "execution_count": 39,
   "id": "01210967",
   "metadata": {},
   "outputs": [
    {
     "name": "stdout",
     "output_type": "stream",
     "text": [
      "The final price of the car is ----> 2260000.0\n"
     ]
    }
   ],
   "source": [
    "#wap to make a class of automobile and try to calculate \n",
    "# the price of the\n",
    "# car if the car is of 20 lakh then you have to pay \n",
    "# the tax of 20%,\n",
    "# and the showroom give a discount of 7% on your \n",
    "# purchase,so try to \n",
    "# find the actual cost of the car with the help \n",
    "# of constructor??\n",
    "\n",
    "class automobile:\n",
    "    def __init__(self,price,tax,discount):\n",
    "        self.price=price\n",
    "        self.tax=tax\n",
    "        self.discount =discount\n",
    "        \n",
    "    def car_price(self):\n",
    "        actual_tax = self.tax-self.discount\n",
    "        tax_price = (self.price *  actual_tax)/100\n",
    "        final_car_price = tax_price+self.price\n",
    "        print(\"The final price of the car is ---->\",final_car_price)\n",
    "        \n",
    "        \n",
    "a = automobile(2000000,20,7)\n",
    "a.car_price()"
   ]
  },
  {
   "cell_type": "code",
   "execution_count": null,
   "id": "12ae3b89",
   "metadata": {},
   "outputs": [],
   "source": []
  }
 ],
 "metadata": {
  "kernelspec": {
   "display_name": "Python 3 (ipykernel)",
   "language": "python",
   "name": "python3"
  },
  "language_info": {
   "codemirror_mode": {
    "name": "ipython",
    "version": 3
   },
   "file_extension": ".py",
   "mimetype": "text/x-python",
   "name": "python",
   "nbconvert_exporter": "python",
   "pygments_lexer": "ipython3",
   "version": "3.9.7"
  }
 },
 "nbformat": 4,
 "nbformat_minor": 5
}
