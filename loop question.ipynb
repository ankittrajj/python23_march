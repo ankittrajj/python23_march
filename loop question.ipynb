{
 "cells": [
  {
   "cell_type": "code",
   "execution_count": 13,
   "id": "6af4f381",
   "metadata": {},
   "outputs": [
    {
     "name": "stdout",
     "output_type": "stream",
     "text": [
      "Enter the number7\n",
      "odd number 7\n",
      "Even number\n"
     ]
    }
   ],
   "source": [
    "# find odd & even number from 1 to 10.\n",
    "a = int(input(\"Enter the number\"))\n",
    "for i in a,0:\n",
    "    if i % 2 != 0 :\n",
    "        print(\"odd number\",i)\n",
    "    else:\n",
    "        print(\"Even number\")"
   ]
  },
  {
   "cell_type": "code",
   "execution_count": 7,
   "id": "9352466d",
   "metadata": {},
   "outputs": [
    {
     "name": "stdout",
     "output_type": "stream",
     "text": [
      "enter the number9\n",
      "9\n"
     ]
    }
   ],
   "source": [
    "a=input(\"enter the number\")\n",
    "print(a)"
   ]
  },
  {
   "cell_type": "code",
   "execution_count": 15,
   "id": "ee15b2e3",
   "metadata": {},
   "outputs": [
    {
     "name": "stdout",
     "output_type": "stream",
     "text": [
      "enter the number9\n"
     ]
    },
    {
     "ename": "TypeError",
     "evalue": "'int' object is not iterable",
     "output_type": "error",
     "traceback": [
      "\u001b[1;31m---------------------------------------------------------------------------\u001b[0m",
      "\u001b[1;31mTypeError\u001b[0m                                 Traceback (most recent call last)",
      "\u001b[1;32m~\\AppData\\Local\\Temp/ipykernel_9712/2639834677.py\u001b[0m in \u001b[0;36m<module>\u001b[1;34m\u001b[0m\n\u001b[0;32m      1\u001b[0m \u001b[0ma\u001b[0m\u001b[1;33m=\u001b[0m\u001b[0mint\u001b[0m\u001b[1;33m(\u001b[0m\u001b[0minput\u001b[0m\u001b[1;33m(\u001b[0m\u001b[1;34m\"enter the number\"\u001b[0m\u001b[1;33m)\u001b[0m\u001b[1;33m)\u001b[0m\u001b[1;33m\u001b[0m\u001b[1;33m\u001b[0m\u001b[0m\n\u001b[1;32m----> 2\u001b[1;33m \u001b[1;32mfor\u001b[0m \u001b[0mi\u001b[0m \u001b[1;32min\u001b[0m \u001b[0ma\u001b[0m\u001b[1;33m:\u001b[0m\u001b[1;33m\u001b[0m\u001b[1;33m\u001b[0m\u001b[0m\n\u001b[0m\u001b[0;32m      3\u001b[0m     \u001b[1;32mif\u001b[0m\u001b[1;33m(\u001b[0m\u001b[0mi\u001b[0m\u001b[1;33m%\u001b[0m\u001b[1;36m2\u001b[0m\u001b[1;33m==\u001b[0m\u001b[1;36m0\u001b[0m\u001b[1;33m)\u001b[0m\u001b[1;33m:\u001b[0m\u001b[1;33m\u001b[0m\u001b[1;33m\u001b[0m\u001b[0m\n\u001b[0;32m      4\u001b[0m         \u001b[0mprint\u001b[0m\u001b[1;33m(\u001b[0m\u001b[1;34m\"even\"\u001b[0m\u001b[1;33m,\u001b[0m\u001b[0mi\u001b[0m\u001b[1;33m)\u001b[0m\u001b[1;33m\u001b[0m\u001b[1;33m\u001b[0m\u001b[0m\n\u001b[0;32m      5\u001b[0m     \u001b[1;32melse\u001b[0m\u001b[1;33m:\u001b[0m\u001b[1;33m\u001b[0m\u001b[1;33m\u001b[0m\u001b[0m\n",
      "\u001b[1;31mTypeError\u001b[0m: 'int' object is not iterable"
     ]
    }
   ],
   "source": [
    "a=int(input(\"enter the number\"))\n",
    "for i in a:\n",
    "    if(i%2==0):\n",
    "        print(\"even\",i)\n",
    "    else:\n",
    "        print(\"odd\",i)\n"
   ]
  },
  {
   "cell_type": "code",
   "execution_count": 16,
   "id": "822571cf",
   "metadata": {},
   "outputs": [
    {
     "name": "stdout",
     "output_type": "stream",
     "text": [
      "Enter the first range6\n",
      "enter the second range9\n",
      "even number 6\n",
      "odd number 7\n",
      "even number 8\n"
     ]
    }
   ],
   "source": [
    "a=int(input(\"Enter the first range\"))\n",
    "b= int(input(\"enter the second range\"))\n",
    "for i in range (a,b):\n",
    "    if i%2!=0:\n",
    "        print(\"odd number\",i)\n",
    "    else:\n",
    "        print(\"even number\",i)\n"
   ]
  },
  {
   "cell_type": "code",
   "execution_count": 17,
   "id": "65485531",
   "metadata": {},
   "outputs": [
    {
     "name": "stdout",
     "output_type": "stream",
     "text": [
      "How many colors?:6\n",
      "Color 1\n",
      "Color 2\n",
      "Color 3\n",
      "Color 4\n",
      "Color 5\n",
      "Color 6\n"
     ]
    }
   ],
   "source": [
    "usercount = int(input(\"How many colors?:\"))\n",
    "\n",
    "for i in range(usercount):\n",
    "    print(\"Color\", i+1)"
   ]
  },
  {
   "cell_type": "code",
   "execution_count": 18,
   "id": "56671128",
   "metadata": {},
   "outputs": [
    {
     "name": "stdout",
     "output_type": "stream",
     "text": [
      "Enter the first range8\n",
      "odd number 1\n",
      "even number 2\n",
      "odd number 3\n",
      "even number 4\n",
      "odd number 5\n",
      "even number 6\n",
      "odd number 7\n",
      "even number 8\n"
     ]
    }
   ],
   "source": [
    "a=int(input(\"Enter the first range\"))\n",
    "for i in range (1,a+1):\n",
    "    if i%2!=0:\n",
    "        print(\"odd number\",i)\n",
    "    else:\n",
    "        print(\"even number\",i)\n"
   ]
  },
  {
   "cell_type": "code",
   "execution_count": 37,
   "id": "b96898dd",
   "metadata": {},
   "outputs": [
    {
     "name": "stdout",
     "output_type": "stream",
     "text": [
      "Enter the number9\n",
      "Even 2\n",
      "Odd 3\n",
      "Even 4\n",
      "Odd 5\n",
      "Even 6\n",
      "Odd 7\n",
      "Even 8\n",
      "Odd 9\n"
     ]
    }
   ],
   "source": [
    "a = int(input(\"Enter the number\"))\n",
    "for i in range(2,a+1):\n",
    "    if i % 2 ==0:\n",
    "        print(\"Even\",i)\n",
    "    else:\n",
    "        print(\"Odd\",i)\n",
    "#     print(i)"
   ]
  },
  {
   "cell_type": "code",
   "execution_count": 38,
   "id": "0bd214d0",
   "metadata": {},
   "outputs": [
    {
     "name": "stdout",
     "output_type": "stream",
     "text": [
      "1\n",
      "2\n",
      "3\n",
      "4\n",
      "5\n",
      "6\n",
      "7\n",
      "8\n",
      "9\n"
     ]
    }
   ],
   "source": [
    "x = 1\n",
    "while x<10:\n",
    "    print(x)\n",
    "    x+=1"
   ]
  },
  {
   "cell_type": "code",
   "execution_count": 40,
   "id": "7ef278e7",
   "metadata": {},
   "outputs": [
    {
     "name": "stdout",
     "output_type": "stream",
     "text": [
      "Enter a number7\n",
      "1 Odd\n",
      "2 Odd\n",
      "3 Odd\n",
      "4 Odd\n",
      "5 Odd\n",
      "6 Odd\n",
      "7 Odd\n"
     ]
    }
   ],
   "source": [
    "i=int(input(\"Enter a number\"))\n",
    "x=1\n",
    "while x<=i:\n",
    "    if x%2 == 2:\n",
    "        print(x , \"Even\")\n",
    "        x+=1       \n",
    "    else:\n",
    "        print(x, \"Odd\")\n",
    "        x+=1 "
   ]
  },
  {
   "cell_type": "code",
   "execution_count": 46,
   "id": "7304b9c1",
   "metadata": {},
   "outputs": [
    {
     "name": "stdout",
     "output_type": "stream",
     "text": [
      "Enter the number12\n"
     ]
    }
   ],
   "source": [
    "x = int(input(\"Enter the number\"))\n",
    "while x<10:\n",
    "    if x%2!=0:\n",
    "        print(\"odd\",x)\n",
    "    else:\n",
    "        print('Even',x)\n",
    "#     print(x)\n",
    "    x=x+1"
   ]
  },
  {
   "cell_type": "code",
   "execution_count": 48,
   "id": "5de2848d",
   "metadata": {},
   "outputs": [],
   "source": [
    "# wap to count total number in a digit ?\n",
    "count = 0\n",
    "a = 789\n",
    "x = (a%10)"
   ]
  },
  {
   "cell_type": "code",
   "execution_count": 49,
   "id": "6e4733ca",
   "metadata": {},
   "outputs": [
    {
     "data": {
      "text/plain": [
       "9"
      ]
     },
     "execution_count": 49,
     "metadata": {},
     "output_type": "execute_result"
    }
   ],
   "source": [
    "x"
   ]
  },
  {
   "cell_type": "code",
   "execution_count": 50,
   "id": "df12b391",
   "metadata": {},
   "outputs": [],
   "source": [
    "count = count+x"
   ]
  },
  {
   "cell_type": "code",
   "execution_count": 51,
   "id": "2cc2e2ee",
   "metadata": {},
   "outputs": [
    {
     "data": {
      "text/plain": [
       "9"
      ]
     },
     "execution_count": 51,
     "metadata": {},
     "output_type": "execute_result"
    }
   ],
   "source": [
    "count"
   ]
  },
  {
   "cell_type": "code",
   "execution_count": 60,
   "id": "fc7f5d21",
   "metadata": {},
   "outputs": [
    {
     "name": "stdout",
     "output_type": "stream",
     "text": [
      "Total number of digit in n is ----> 1\n"
     ]
    }
   ],
   "source": [
    "# step\n",
    "# 1. take a digit\n",
    "# 2. use while loop and set a varibale count =0.\n",
    "# 3 now use modulus or divide operator to count the value.\n",
    "\n",
    "\n",
    "n = 467\n",
    "a = 0\n",
    "while n>0:\n",
    "    a=a+1\n",
    "    n = n//10\n",
    "print(\"Total number of digit in n is ---->\",a)\n",
    "    "
   ]
  },
  {
   "cell_type": "code",
   "execution_count": 61,
   "id": "ef6fa351",
   "metadata": {},
   "outputs": [
    {
     "data": {
      "text/plain": [
       "46"
      ]
     },
     "execution_count": 61,
     "metadata": {},
     "output_type": "execute_result"
    }
   ],
   "source": [
    "n = 467\n",
    "n= n//10\n",
    "n"
   ]
  },
  {
   "cell_type": "code",
   "execution_count": 64,
   "id": "fb2899f1",
   "metadata": {},
   "outputs": [
    {
     "name": "stdout",
     "output_type": "stream",
     "text": [
      "Enter the number2\n",
      "Prime Number\n"
     ]
    }
   ],
   "source": [
    "# wap to find the number is prime number or not?\n",
    "a=int(input('Enter the number'))\n",
    "k=0\n",
    "for i in range (1,a+1):\n",
    "    if a%i==0:\n",
    "        k=k+1\n",
    "if k==2:\n",
    "    print(\"Prime Number\")\n",
    "else:\n",
    "    print(\"Not Prime \")\n"
   ]
  },
  {
   "cell_type": "code",
   "execution_count": 80,
   "id": "67f4b5ed",
   "metadata": {},
   "outputs": [
    {
     "name": "stdout",
     "output_type": "stream",
     "text": [
      "Enter the number2\n",
      "prime number 2\n"
     ]
    }
   ],
   "source": [
    "#prime number\n",
    "num = int(input(\"Enter the number\"))\n",
    "if num>1:\n",
    "    for i in range (2,num):\n",
    "        if num%i==0:\n",
    "            print(\"not prime\",num)\n",
    "            break;\n",
    "    else:\n",
    "        print('prime number',num)\n",
    "            \n",
    "else:\n",
    "    print(\"not prime number\",num)\n",
    "    \n"
   ]
  },
  {
   "cell_type": "code",
   "execution_count": null,
   "id": "2efd996f",
   "metadata": {},
   "outputs": [],
   "source": []
  }
 ],
 "metadata": {
  "kernelspec": {
   "display_name": "Python 3 (ipykernel)",
   "language": "python",
   "name": "python3"
  },
  "language_info": {
   "codemirror_mode": {
    "name": "ipython",
    "version": 3
   },
   "file_extension": ".py",
   "mimetype": "text/x-python",
   "name": "python",
   "nbconvert_exporter": "python",
   "pygments_lexer": "ipython3",
   "version": "3.9.7"
  }
 },
 "nbformat": 4,
 "nbformat_minor": 5
}
