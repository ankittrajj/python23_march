{
 "cells": [
  {
   "cell_type": "code",
   "execution_count": 3,
   "id": "adcd9264",
   "metadata": {},
   "outputs": [],
   "source": [
    "def sort():\n",
    "    print(\"Kya haal hai bhai!!\")"
   ]
  },
  {
   "cell_type": "code",
   "execution_count": 4,
   "id": "ac9ef1e6",
   "metadata": {},
   "outputs": [
    {
     "name": "stdout",
     "output_type": "stream",
     "text": [
      "Kya haal hai bhai!!\n"
     ]
    }
   ],
   "source": [
    "sort()"
   ]
  },
  {
   "cell_type": "code",
   "execution_count": 5,
   "id": "fe5b4059",
   "metadata": {},
   "outputs": [],
   "source": [
    "#steps------> define the steps !!\n",
    "\n",
    "# no arg no return\n",
    "# with arg no return\n",
    "# with arg with return\n",
    "# no arg with return"
   ]
  },
  {
   "cell_type": "code",
   "execution_count": 6,
   "id": "afdc6930",
   "metadata": {},
   "outputs": [],
   "source": [
    "# print('ytres5y7e68ufyi6789ryuuifuyfyuff')\n",
    "#no arg no return\n",
    "def add():\n",
    "    a=9\n",
    "    b=1\n",
    "    c=a+b\n",
    "    print(c)"
   ]
  },
  {
   "cell_type": "code",
   "execution_count": 7,
   "id": "3e6fd78f",
   "metadata": {},
   "outputs": [
    {
     "name": "stdout",
     "output_type": "stream",
     "text": [
      "10\n"
     ]
    }
   ],
   "source": [
    "add()"
   ]
  },
  {
   "cell_type": "code",
   "execution_count": 8,
   "id": "0da2e16c",
   "metadata": {},
   "outputs": [],
   "source": [
    "# with arg no return\n",
    "def add(x,y):\n",
    "    result = x+y\n",
    "    print(result)"
   ]
  },
  {
   "cell_type": "code",
   "execution_count": 10,
   "id": "9b92826f",
   "metadata": {},
   "outputs": [
    {
     "name": "stdout",
     "output_type": "stream",
     "text": [
      "10\n"
     ]
    }
   ],
   "source": [
    "add(4,6)"
   ]
  },
  {
   "cell_type": "code",
   "execution_count": 13,
   "id": "79e665b9",
   "metadata": {},
   "outputs": [],
   "source": [
    "#  with arg with return!!\n",
    "\n",
    "def add(x,y):\n",
    "    result = x+y\n",
    "    return (result)\n",
    "    "
   ]
  },
  {
   "cell_type": "code",
   "execution_count": 14,
   "id": "185e77f8",
   "metadata": {},
   "outputs": [
    {
     "data": {
      "text/plain": [
       "3"
      ]
     },
     "execution_count": 14,
     "metadata": {},
     "output_type": "execute_result"
    }
   ],
   "source": [
    "add(1,2)"
   ]
  },
  {
   "cell_type": "code",
   "execution_count": 15,
   "id": "dfc2ed75",
   "metadata": {},
   "outputs": [
    {
     "name": "stdout",
     "output_type": "stream",
     "text": [
      "sobit\n"
     ]
    }
   ],
   "source": [
    "print('sobit')"
   ]
  },
  {
   "cell_type": "code",
   "execution_count": 16,
   "id": "a5c4644a",
   "metadata": {},
   "outputs": [
    {
     "ename": "SyntaxError",
     "evalue": "'return' outside function (Temp/ipykernel_7068/1314380598.py, line 1)",
     "output_type": "error",
     "traceback": [
      "\u001b[1;36m  File \u001b[1;32m\"C:\\Users\\Satyam\\AppData\\Local\\Temp/ipykernel_7068/1314380598.py\"\u001b[1;36m, line \u001b[1;32m1\u001b[0m\n\u001b[1;33m    return('shobit')\u001b[0m\n\u001b[1;37m    ^\u001b[0m\n\u001b[1;31mSyntaxError\u001b[0m\u001b[1;31m:\u001b[0m 'return' outside function\n"
     ]
    }
   ],
   "source": [
    "return('shobit')"
   ]
  },
  {
   "cell_type": "code",
   "execution_count": 19,
   "id": "4b541e7c",
   "metadata": {},
   "outputs": [
    {
     "name": "stdout",
     "output_type": "stream",
     "text": [
      "9\n"
     ]
    }
   ],
   "source": [
    "#diff--> return & print\n",
    "def add(x,y):\n",
    "    result = x+y\n",
    "    print(result)\n",
    "add(4,5)\n",
    "    \n"
   ]
  },
  {
   "cell_type": "code",
   "execution_count": 20,
   "id": "3bc67b0f",
   "metadata": {},
   "outputs": [
    {
     "data": {
      "text/plain": [
       "12"
      ]
     },
     "execution_count": 20,
     "metadata": {},
     "output_type": "execute_result"
    }
   ],
   "source": [
    "def add(x,y):\n",
    "    result = x+y\n",
    "    return (result)\n",
    "add(5,7)\n",
    "    "
   ]
  },
  {
   "cell_type": "code",
   "execution_count": 21,
   "id": "5c5e9d2e",
   "metadata": {},
   "outputs": [],
   "source": [
    "# no arg with return"
   ]
  },
  {
   "cell_type": "code",
   "execution_count": 22,
   "id": "8cb803a1",
   "metadata": {},
   "outputs": [
    {
     "data": {
      "text/plain": [
       "3"
      ]
     },
     "execution_count": 22,
     "metadata": {},
     "output_type": "execute_result"
    }
   ],
   "source": [
    "def add():\n",
    "    a=2\n",
    "    b=1\n",
    "    c = a+b\n",
    "    return c\n",
    "add()"
   ]
  },
  {
   "cell_type": "code",
   "execution_count": 23,
   "id": "ae9e61d5",
   "metadata": {},
   "outputs": [],
   "source": [
    "#wap to find max no. from three numbers using function.\n",
    "#wap to find min no. from three numbers using function.\n",
    "#Wap to sum all number present in a list.\n",
    "#wap to check a string is reversed or not?\n",
    "#Wap to find odd number using function.\n",
    "#wap to find even no. using function.\n",
    "# Write a function to check a string is palindrome or not?\n",
    "#Wap to sum the first 10 natural numbers using function?\n",
    "\n",
    "# Wap to calculate the percentage of 5 students??\n",
    "\n",
    "# Wap to find out the average cost of 5 quantity each\n",
    "# quantity is having the value of 80 and if the value exceed by\n",
    "# avg value then also calculate the total price of whole quantity\n",
    "# avg value => 350\n",
    "\n",
    "# Wap to find the area and circumference of circle and also try to find\n",
    "# if this circle is going to be square or not?\n",
    "\n",
    "# Calculate the total area of a land having l=20 b=30.If the land\n",
    "# is greater than 100sq fit then also calculate the cost of \n",
    "# remaining land. Price of land is 20000K.\n",
    "\n",
    "# Wap to find out the average cost of 5 quantity each\n",
    "# quantity is having the value of 80 and if the value exceed by\n",
    "# avg value then also calculate the total price of whole quantity\n",
    "# avg value => 350"
   ]
  },
  {
   "cell_type": "code",
   "execution_count": 28,
   "id": "9453fe22",
   "metadata": {},
   "outputs": [
    {
     "name": "stdout",
     "output_type": "stream",
     "text": [
      "1,2\n",
      "1 , 2\n"
     ]
    }
   ],
   "source": [
    "# input()\n",
    "a,b,c=input()\n",
    "print(a,b,c)"
   ]
  },
  {
   "cell_type": "code",
   "execution_count": 29,
   "id": "c9646e9a",
   "metadata": {},
   "outputs": [
    {
     "data": {
      "text/plain": [
       "'1'"
      ]
     },
     "execution_count": 29,
     "metadata": {},
     "output_type": "execute_result"
    }
   ],
   "source": [
    "a"
   ]
  },
  {
   "cell_type": "code",
   "execution_count": 30,
   "id": "aecd3238",
   "metadata": {},
   "outputs": [
    {
     "data": {
      "text/plain": [
       "','"
      ]
     },
     "execution_count": 30,
     "metadata": {},
     "output_type": "execute_result"
    }
   ],
   "source": [
    "b"
   ]
  },
  {
   "cell_type": "code",
   "execution_count": 31,
   "id": "fa466444",
   "metadata": {},
   "outputs": [
    {
     "data": {
      "text/plain": [
       "'2'"
      ]
     },
     "execution_count": 31,
     "metadata": {},
     "output_type": "execute_result"
    }
   ],
   "source": [
    "c"
   ]
  },
  {
   "cell_type": "code",
   "execution_count": 33,
   "id": "45348dba",
   "metadata": {},
   "outputs": [
    {
     "ename": "TypeError",
     "evalue": "raw_input() takes from 1 to 2 positional arguments but 4 were given",
     "output_type": "error",
     "traceback": [
      "\u001b[1;31m---------------------------------------------------------------------------\u001b[0m",
      "\u001b[1;31mTypeError\u001b[0m                                 Traceback (most recent call last)",
      "\u001b[1;32m~\\AppData\\Local\\Temp/ipykernel_7068/1385321471.py\u001b[0m in \u001b[0;36m<module>\u001b[1;34m\u001b[0m\n\u001b[0;32m      2\u001b[0m \u001b[1;31m# b=8\u001b[0m\u001b[1;33m\u001b[0m\u001b[1;33m\u001b[0m\u001b[0m\n\u001b[0;32m      3\u001b[0m \u001b[1;31m# c=0\u001b[0m\u001b[1;33m\u001b[0m\u001b[1;33m\u001b[0m\u001b[0m\n\u001b[1;32m----> 4\u001b[1;33m \u001b[0minput\u001b[0m\u001b[1;33m(\u001b[0m\u001b[0ma\u001b[0m\u001b[1;33m,\u001b[0m\u001b[0mb\u001b[0m\u001b[1;33m,\u001b[0m\u001b[0mc\u001b[0m\u001b[1;33m)\u001b[0m\u001b[1;33m\u001b[0m\u001b[1;33m\u001b[0m\u001b[0m\n\u001b[0m",
      "\u001b[1;31mTypeError\u001b[0m: raw_input() takes from 1 to 2 positional arguments but 4 were given"
     ]
    }
   ],
   "source": [
    "# a=9\n",
    "# b=8\n",
    "# c=0\n",
    "x = input(a,b,c)"
   ]
  },
  {
   "cell_type": "code",
   "execution_count": 34,
   "id": "626c0738",
   "metadata": {},
   "outputs": [
    {
     "name": "stdout",
     "output_type": "stream",
     "text": [
      "even number in list is:- \n"
     ]
    }
   ],
   "source": [
    "# list ==> number\n",
    "# even number output\n",
    "# list print()\n",
    "def f2(x2):\n",
    "    l2 = []\n",
    "    for i in x2:\n",
    "        if(i%2==0):\n",
    "            l2.append(i)\n",
    "        return l2\n",
    "            \n",
    "lst = [1,2,3,4,5,6]\n",
    "even = []\n",
    "even = f2(lst)\n",
    "print(\"even number in list is:- \")\n",
    "for i in even:\n",
    "    print(i)\n"
   ]
  },
  {
   "cell_type": "code",
   "execution_count": 58,
   "id": "a57d4215",
   "metadata": {},
   "outputs": [],
   "source": [
    "\n",
    "x = [1,2,3,4,6,8,90]\n",
    "def fun(x,y):\n",
    "    y=[]\n",
    "    for i in x:\n",
    "        if i%2==0:\n",
    "            y.append(i) \n",
    "            \n",
    "    print(y)\n",
    "            \n",
    "            \n"
   ]
  },
  {
   "cell_type": "code",
   "execution_count": 60,
   "id": "051616f1",
   "metadata": {},
   "outputs": [
    {
     "name": "stdout",
     "output_type": "stream",
     "text": [
      "[2, 4, 6, 8, 90]\n"
     ]
    }
   ],
   "source": [
    "fun(x,y)"
   ]
  },
  {
   "cell_type": "code",
   "execution_count": 43,
   "id": "2225fd96",
   "metadata": {},
   "outputs": [],
   "source": [
    "a = [1,2,3]+[2]"
   ]
  },
  {
   "cell_type": "code",
   "execution_count": 44,
   "id": "c623d527",
   "metadata": {},
   "outputs": [
    {
     "data": {
      "text/plain": [
       "[1, 2, 3, 2]"
      ]
     },
     "execution_count": 44,
     "metadata": {},
     "output_type": "execute_result"
    }
   ],
   "source": [
    "a"
   ]
  },
  {
   "cell_type": "code",
   "execution_count": 69,
   "id": "2be53d69",
   "metadata": {},
   "outputs": [],
   "source": [
    "# reverse-----? 'abc'\n",
    "# 'cba'\n",
    "# 90--->09\n",
    "# [56,78,90]\n",
    "# [90,78,56]\n",
    "\n",
    "\n",
    "# mam\n",
    "# nitin\n",
    "\n",
    "# x = [1,2,3,4]\n",
    "def add(x):\n",
    "    num = 0\n",
    "    for i in x:\n",
    "        num =num+i\n",
    "    print(num)\n",
    "#     print(i)"
   ]
  },
  {
   "cell_type": "code",
   "execution_count": 70,
   "id": "511f3115",
   "metadata": {},
   "outputs": [
    {
     "name": "stdout",
     "output_type": "stream",
     "text": [
      "10\n"
     ]
    }
   ],
   "source": [
    "add(x = [1,2,3,4])"
   ]
  },
  {
   "cell_type": "code",
   "execution_count": null,
   "id": "d35ec0e9",
   "metadata": {},
   "outputs": [],
   "source": []
  }
 ],
 "metadata": {
  "kernelspec": {
   "display_name": "Python 3 (ipykernel)",
   "language": "python",
   "name": "python3"
  },
  "language_info": {
   "codemirror_mode": {
    "name": "ipython",
    "version": 3
   },
   "file_extension": ".py",
   "mimetype": "text/x-python",
   "name": "python",
   "nbconvert_exporter": "python",
   "pygments_lexer": "ipython3",
   "version": "3.9.7"
  }
 },
 "nbformat": 4,
 "nbformat_minor": 5
}
