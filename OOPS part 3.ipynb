{
 "cells": [
  {
   "cell_type": "code",
   "execution_count": 7,
   "id": "5586e8eb",
   "metadata": {},
   "outputs": [
    {
     "name": "stdout",
     "output_type": "stream",
     "text": [
      "A 34\n"
     ]
    }
   ],
   "source": [
    "class parent:\n",
    "    def __init__(self,name):\n",
    "        self.name = name\n",
    "        \n",
    "class child(parent):\n",
    "    def __init__(self,name,age):\n",
    "        self.age = age\n",
    "        self.name=name\n",
    "        print(name,age)\n",
    "        \n",
    "c = child('A',34)      \n",
    "        \n",
    "        "
   ]
  },
  {
   "cell_type": "code",
   "execution_count": 12,
   "id": "d061e4c9",
   "metadata": {},
   "outputs": [],
   "source": [
    "class parent:\n",
    "    def __init__(self,name):\n",
    "        self.name = name\n",
    "        \n",
    "class child(parent):\n",
    "    def __init__(self,name,age):\n",
    "        parent.__init__(self,name)\n",
    "        self.age = age\n",
    "        \n",
    "        \n",
    "c = child('A',34) "
   ]
  },
  {
   "cell_type": "code",
   "execution_count": 9,
   "id": "709fc121",
   "metadata": {},
   "outputs": [
    {
     "data": {
      "text/plain": [
       "'A'"
      ]
     },
     "execution_count": 9,
     "metadata": {},
     "output_type": "execute_result"
    }
   ],
   "source": [
    "c.name"
   ]
  },
  {
   "cell_type": "code",
   "execution_count": 10,
   "id": "b93d163c",
   "metadata": {},
   "outputs": [
    {
     "data": {
      "text/plain": [
       "34"
      ]
     },
     "execution_count": 10,
     "metadata": {},
     "output_type": "execute_result"
    }
   ],
   "source": [
    "c.age"
   ]
  },
  {
   "cell_type": "code",
   "execution_count": 13,
   "id": "01f0ea61",
   "metadata": {},
   "outputs": [
    {
     "name": "stdout",
     "output_type": "stream",
     "text": [
      "Hello my name is A and my age is 34\n"
     ]
    }
   ],
   "source": [
    "print(\"Hello my name is\",c.name,\"and my age is\",c.age)"
   ]
  },
  {
   "cell_type": "code",
   "execution_count": 15,
   "id": "b71e0240",
   "metadata": {},
   "outputs": [
    {
     "data": {
      "text/plain": [
       "('A', 34)"
      ]
     },
     "execution_count": 15,
     "metadata": {},
     "output_type": "execute_result"
    }
   ],
   "source": [
    "c.name,c.age"
   ]
  },
  {
   "cell_type": "code",
   "execution_count": 18,
   "id": "37bde80c",
   "metadata": {},
   "outputs": [],
   "source": [
    "#super\n",
    "class parent:\n",
    "    def __init__(self,name):\n",
    "        self.name = name\n",
    "        \n",
    "class child(parent):\n",
    "    def __init__(self,name,age):\n",
    "        super().__init__(name)\n",
    "        self.age = age\n",
    "        \n",
    "        \n",
    "c = child('B',340) "
   ]
  },
  {
   "cell_type": "code",
   "execution_count": 19,
   "id": "e541a18c",
   "metadata": {},
   "outputs": [
    {
     "data": {
      "text/plain": [
       "'B'"
      ]
     },
     "execution_count": 19,
     "metadata": {},
     "output_type": "execute_result"
    }
   ],
   "source": [
    "c.name"
   ]
  },
  {
   "cell_type": "code",
   "execution_count": 20,
   "id": "bdcc5f97",
   "metadata": {},
   "outputs": [
    {
     "data": {
      "text/plain": [
       "340"
      ]
     },
     "execution_count": 20,
     "metadata": {},
     "output_type": "execute_result"
    }
   ],
   "source": [
    "c.age"
   ]
  },
  {
   "cell_type": "code",
   "execution_count": 26,
   "id": "43567e25",
   "metadata": {},
   "outputs": [
    {
     "name": "stdout",
     "output_type": "stream",
     "text": [
      "Second car achi hai bhai\n"
     ]
    }
   ],
   "source": [
    "#wap to inherit car1 class from car2 class and try to find\n",
    "# the best car wrt to milage/average.\n",
    "\n",
    "class car1():\n",
    "    def __init__(self,name,color,average1):\n",
    "        self.name=name\n",
    "        self.color=color\n",
    "        self.average = average1\n",
    "        \n",
    "        \n",
    "class car2(car1):\n",
    "    def __init__(self,name,color,average1,avg2):\n",
    "        self.avg2=avg2\n",
    "        super().__init__(name,color,average1)\n",
    "        \n",
    "        if average1>avg2:\n",
    "            print('Fisrt car is best')\n",
    "        else:\n",
    "            print(\"Second car achi hai bhai\")\n",
    "        \n",
    "        \n",
    "        \n",
    "        \n",
    "        \n",
    "x = car2('Honda city','Black','30km/hr','60km/hr')"
   ]
  },
  {
   "cell_type": "code",
   "execution_count": 25,
   "id": "eeb23311",
   "metadata": {},
   "outputs": [
    {
     "data": {
      "text/plain": [
       "'60km/hr'"
      ]
     },
     "execution_count": 25,
     "metadata": {},
     "output_type": "execute_result"
    }
   ],
   "source": [
    "x.avg2"
   ]
  },
  {
   "cell_type": "code",
   "execution_count": 30,
   "id": "a8712917",
   "metadata": {},
   "outputs": [],
   "source": [
    "class gpc:\n",
    "    def __init__(self,name):\n",
    "        self.name = name\n",
    "\n",
    "class parent(gpc):\n",
    "    def __init__(self,name,age):\n",
    "        self.age = age\n",
    "        super().__init__(name)\n",
    "    \n",
    "    \n",
    "class child(parent):\n",
    "    def __init__(self,name,age,gender):\n",
    "        self.gender = gender\n",
    "        super().__init__(name,age)\n",
    "        \n",
    "        \n",
    "p = child('jethalal',45,\"M\")"
   ]
  },
  {
   "cell_type": "code",
   "execution_count": 31,
   "id": "9939a0fd",
   "metadata": {},
   "outputs": [
    {
     "data": {
      "text/plain": [
       "'jethalal'"
      ]
     },
     "execution_count": 31,
     "metadata": {},
     "output_type": "execute_result"
    }
   ],
   "source": [
    "p.name"
   ]
  },
  {
   "cell_type": "code",
   "execution_count": 32,
   "id": "387f6f59",
   "metadata": {},
   "outputs": [
    {
     "data": {
      "text/plain": [
       "45"
      ]
     },
     "execution_count": 32,
     "metadata": {},
     "output_type": "execute_result"
    }
   ],
   "source": [
    "p.age"
   ]
  },
  {
   "cell_type": "code",
   "execution_count": 33,
   "id": "a7d97f78",
   "metadata": {},
   "outputs": [
    {
     "data": {
      "text/plain": [
       "'M'"
      ]
     },
     "execution_count": 33,
     "metadata": {},
     "output_type": "execute_result"
    }
   ],
   "source": [
    "p.gender"
   ]
  },
  {
   "cell_type": "code",
   "execution_count": 35,
   "id": "9ae6ceb8",
   "metadata": {},
   "outputs": [],
   "source": [
    "class gpc:\n",
    "    def __init__(self,name):\n",
    "        self.name = name\n",
    "\n",
    "class parent(gpc):\n",
    "    def __init__(self,name,age):\n",
    "        self.age = age\n",
    "        super().__init__(name)\n",
    "    \n",
    "    \n",
    "class child(gpc):\n",
    "    def __init__(self,name,gender):\n",
    "        self.gender = gender\n",
    "        super().__init__(name)\n",
    "        \n",
    "        \n",
    "p = child('jethalal',\"M\")"
   ]
  },
  {
   "cell_type": "code",
   "execution_count": 36,
   "id": "88d063a4",
   "metadata": {},
   "outputs": [
    {
     "data": {
      "text/plain": [
       "'jethalal'"
      ]
     },
     "execution_count": 36,
     "metadata": {},
     "output_type": "execute_result"
    }
   ],
   "source": [
    "p.name"
   ]
  },
  {
   "cell_type": "code",
   "execution_count": 37,
   "id": "9e818b05",
   "metadata": {},
   "outputs": [
    {
     "data": {
      "text/plain": [
       "'M'"
      ]
     },
     "execution_count": 37,
     "metadata": {},
     "output_type": "execute_result"
    }
   ],
   "source": [
    "p.gender"
   ]
  },
  {
   "cell_type": "code",
   "execution_count": null,
   "id": "a400c1e8",
   "metadata": {},
   "outputs": [],
   "source": [
    "#suppose you have 3 students try to calculate the avg marks \n",
    "# in 3 subjects!!\n",
    "\n",
    "class s1:\n",
    "    def __init__(self,a)"
   ]
  }
 ],
 "metadata": {
  "kernelspec": {
   "display_name": "Python 3 (ipykernel)",
   "language": "python",
   "name": "python3"
  },
  "language_info": {
   "codemirror_mode": {
    "name": "ipython",
    "version": 3
   },
   "file_extension": ".py",
   "mimetype": "text/x-python",
   "name": "python",
   "nbconvert_exporter": "python",
   "pygments_lexer": "ipython3",
   "version": "3.9.7"
  }
 },
 "nbformat": 4,
 "nbformat_minor": 5
}
