{
 "cells": [
  {
   "cell_type": "markdown",
   "id": "d1b38b3b",
   "metadata": {},
   "source": [
    "# Reduce function"
   ]
  },
  {
   "cell_type": "code",
   "execution_count": 3,
   "id": "8ab89c2a",
   "metadata": {},
   "outputs": [],
   "source": [
    "from functools import reduce"
   ]
  },
  {
   "cell_type": "code",
   "execution_count": 4,
   "id": "88a07e00",
   "metadata": {},
   "outputs": [
    {
     "data": {
      "text/plain": [
       "32"
      ]
     },
     "execution_count": 4,
     "metadata": {},
     "output_type": "execute_result"
    }
   ],
   "source": [
    "a = [3,5,7,9,2,6]\n",
    "reduce(lambda x,y :x+y,a) "
   ]
  },
  {
   "cell_type": "code",
   "execution_count": 5,
   "id": "0fca602b",
   "metadata": {},
   "outputs": [
    {
     "name": "stdout",
     "output_type": "stream",
     "text": [
      "32\n"
     ]
    }
   ],
   "source": [
    "a = [3,5,7,9,2,6]\n",
    "z = reduce(lambda x,y :x+y,a) \n",
    "print(z)"
   ]
  },
  {
   "cell_type": "code",
   "execution_count": 7,
   "id": "c8357b53",
   "metadata": {},
   "outputs": [
    {
     "name": "stdout",
     "output_type": "stream",
     "text": [
      "6\n"
     ]
    }
   ],
   "source": [
    "#wap to multiply a list of numbers using lambda & reduce function.\n",
    "#solve the above question with normal function also?\n",
    "\n",
    "def mul():\n",
    "    a =[1,2,3]\n",
    "    z = reduce(lambda x,y :x*y,a)\n",
    "    print(z)\n",
    "mul()  "
   ]
  },
  {
   "cell_type": "code",
   "execution_count": 8,
   "id": "e0ad5627",
   "metadata": {},
   "outputs": [
    {
     "data": {
      "text/plain": [
       "24"
      ]
     },
     "execution_count": 8,
     "metadata": {},
     "output_type": "execute_result"
    }
   ],
   "source": [
    "a = [1,2,3,4]\n",
    "def mul(x,y):\n",
    "    z = x*y\n",
    "    return z\n",
    "reduce(mul,a)"
   ]
  },
  {
   "cell_type": "code",
   "execution_count": null,
   "id": "33b640a1",
   "metadata": {},
   "outputs": [],
   "source": [
    "\n"
   ]
  },
  {
   "cell_type": "code",
   "execution_count": null,
   "id": "8008bba8",
   "metadata": {},
   "outputs": [],
   "source": []
  }
 ],
 "metadata": {
  "kernelspec": {
   "display_name": "Python 3 (ipykernel)",
   "language": "python",
   "name": "python3"
  },
  "language_info": {
   "codemirror_mode": {
    "name": "ipython",
    "version": 3
   },
   "file_extension": ".py",
   "mimetype": "text/x-python",
   "name": "python",
   "nbconvert_exporter": "python",
   "pygments_lexer": "ipython3",
   "version": "3.9.7"
  }
 },
 "nbformat": 4,
 "nbformat_minor": 5
}
