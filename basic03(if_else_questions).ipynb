{
 "cells": [
  {
   "cell_type": "code",
   "execution_count": 7,
   "id": "55ee21d2",
   "metadata": {},
   "outputs": [
    {
     "name": "stdout",
     "output_type": "stream",
     "text": [
      "Enter the salary60000\n",
      "Enter the year of service3\n",
      "no bonus\n"
     ]
    }
   ],
   "source": [
    "# A company decided to give bonus of 5% to employee\n",
    "# if his/her year \n",
    "# of service is more than 5 years.\n",
    "# Ask user for their salary and year of service\n",
    "# and print the net bonus amount.\n",
    "# print total salary after bonus.\n",
    "\n",
    "salary = int(input(\"Enter the salary\"))\n",
    "yos = int(input(\"Enter the year of service\"))\n",
    "\n",
    "if yos>5:\n",
    "    bonus = salary*(5/100)\n",
    "    total_sal = bonus+salary\n",
    "    print(\"Bonus amt =\",bonus)\n",
    "    print(\"Total salary is -----> \",total_sal)\n",
    "else:\n",
    "    print(\"no bonus\")"
   ]
  },
  {
   "cell_type": "code",
   "execution_count": 11,
   "id": "626b2483",
   "metadata": {},
   "outputs": [
    {
     "name": "stdout",
     "output_type": "stream",
     "text": [
      "enter the first num23\n",
      "B is smaller\n"
     ]
    }
   ],
   "source": [
    "\n",
    "# 2.Take three int values from user and print \n",
    "# smallest among them.\n",
    "\n",
    "a=int(input(\"enter the first num\"))\n",
    "b=20\n",
    "c=30\n",
    "if a<b and a<c:\n",
    "    print(\"A is smaller\")\n",
    "elif b<c and b<a:\n",
    "    print(\"B is smaller\")\n",
    "else:\n",
    "    print(\"C is smaller\")"
   ]
  },
  {
   "cell_type": "code",
   "execution_count": 18,
   "id": "f82f9c64",
   "metadata": {},
   "outputs": [
    {
     "name": "stdout",
     "output_type": "stream",
     "text": [
      "Discount is = 1120.0\n",
      "Discounted price----> 10080.0\n"
     ]
    }
   ],
   "source": [
    "# A shop will give discount \n",
    "# of 10% if the cost of purchased \n",
    "# quantity is more than 1000.\n",
    "# Ask user for quantity\n",
    "# Suppose, one unit will cost 100.\n",
    "# Judge and print total cost for user.\n",
    "\n",
    "\n",
    "unit_price = 100\n",
    "quantity = 112\n",
    "total_price = unit_price*quantity\n",
    "\n",
    "if total_price>1000:\n",
    "    discount = total_price*(10/100)\n",
    "    price_after_dis = total_price-discount\n",
    "    print(\"Discount is =\",discount)\n",
    "    print(\"Discounted price---->\",price_after_dis)\n",
    "else:\n",
    "    print(\"Discount is not valid on this price\",total_price)\n",
    "    \n"
   ]
  },
  {
   "cell_type": "code",
   "execution_count": null,
   "id": "2f8bbc66",
   "metadata": {},
   "outputs": [],
   "source": []
  }
 ],
 "metadata": {
  "kernelspec": {
   "display_name": "Python 3 (ipykernel)",
   "language": "python",
   "name": "python3"
  },
  "language_info": {
   "codemirror_mode": {
    "name": "ipython",
    "version": 3
   },
   "file_extension": ".py",
   "mimetype": "text/x-python",
   "name": "python",
   "nbconvert_exporter": "python",
   "pygments_lexer": "ipython3",
   "version": "3.9.7"
  }
 },
 "nbformat": 4,
 "nbformat_minor": 5
}
