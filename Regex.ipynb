{
 "cells": [
  {
   "cell_type": "code",
   "execution_count": 1,
   "id": "abe33e05",
   "metadata": {},
   "outputs": [],
   "source": [
    "# re module\n",
    "import re"
   ]
  },
  {
   "cell_type": "code",
   "execution_count": 16,
   "id": "692b8348",
   "metadata": {},
   "outputs": [
    {
     "data": {
      "text/plain": [
       "['a', 'a', 'a']"
      ]
     },
     "execution_count": 16,
     "metadata": {},
     "output_type": "execute_result"
    }
   ],
   "source": [
    "# search\n",
    "# split\n",
    "# findall\n",
    "# finditer\n",
    "# sub\n",
    "\n",
    "\n",
    "# findall\n",
    "a = \"I am a lion and I know it\"\n",
    "re.findall('a',a)"
   ]
  },
  {
   "cell_type": "code",
   "execution_count": 3,
   "id": "0c8dcaea",
   "metadata": {},
   "outputs": [
    {
     "data": {
      "text/plain": [
       "['lion']"
      ]
     },
     "execution_count": 3,
     "metadata": {},
     "output_type": "execute_result"
    }
   ],
   "source": [
    "re.findall('lion',a)"
   ]
  },
  {
   "cell_type": "code",
   "execution_count": 5,
   "id": "77a11404",
   "metadata": {},
   "outputs": [
    {
     "data": {
      "text/plain": [
       "['i', 'i']"
      ]
     },
     "execution_count": 5,
     "metadata": {},
     "output_type": "execute_result"
    }
   ],
   "source": [
    "re.findall('i',a)"
   ]
  },
  {
   "cell_type": "code",
   "execution_count": 6,
   "id": "5985deef",
   "metadata": {},
   "outputs": [
    {
     "data": {
      "text/plain": [
       "['I', 'I']"
      ]
     },
     "execution_count": 6,
     "metadata": {},
     "output_type": "execute_result"
    }
   ],
   "source": [
    "re.findall('I',a)"
   ]
  },
  {
   "cell_type": "code",
   "execution_count": 7,
   "id": "b8a99bca",
   "metadata": {},
   "outputs": [
    {
     "data": {
      "text/plain": [
       "'I am a lion and I know it'"
      ]
     },
     "execution_count": 7,
     "metadata": {},
     "output_type": "execute_result"
    }
   ],
   "source": [
    "# search\n",
    "a"
   ]
  },
  {
   "cell_type": "code",
   "execution_count": 8,
   "id": "01201fca",
   "metadata": {},
   "outputs": [
    {
     "data": {
      "text/plain": [
       "<re.Match object; span=(2, 3), match='a'>"
      ]
     },
     "execution_count": 8,
     "metadata": {},
     "output_type": "execute_result"
    }
   ],
   "source": [
    "re.search('a',a)"
   ]
  },
  {
   "cell_type": "code",
   "execution_count": 9,
   "id": "c39e60ac",
   "metadata": {},
   "outputs": [],
   "source": [
    "re.search('q',a)"
   ]
  },
  {
   "cell_type": "code",
   "execution_count": 13,
   "id": "7acea7c4",
   "metadata": {},
   "outputs": [
    {
     "data": {
      "text/plain": [
       "'I am a tiger and I know it'"
      ]
     },
     "execution_count": 13,
     "metadata": {},
     "output_type": "execute_result"
    }
   ],
   "source": [
    "# sub\n",
    "re.sub('lion','tiger',a)"
   ]
  },
  {
   "cell_type": "code",
   "execution_count": 14,
   "id": "0773cb60",
   "metadata": {},
   "outputs": [
    {
     "data": {
      "text/plain": [
       "'289,345,564'"
      ]
     },
     "execution_count": 14,
     "metadata": {},
     "output_type": "execute_result"
    }
   ],
   "source": [
    "#wap to replicate 130 to 289 using regex .\n",
    "a='130,345,564'\n",
    "re.sub('130','289',a)\n"
   ]
  },
  {
   "cell_type": "code",
   "execution_count": 17,
   "id": "ba1c994e",
   "metadata": {},
   "outputs": [
    {
     "data": {
      "text/plain": [
       "'I am a lion and I know it'"
      ]
     },
     "execution_count": 17,
     "metadata": {},
     "output_type": "execute_result"
    }
   ],
   "source": [
    "# split---> \n",
    "a"
   ]
  },
  {
   "cell_type": "code",
   "execution_count": 19,
   "id": "3d7b0513",
   "metadata": {},
   "outputs": [
    {
     "data": {
      "text/plain": [
       "['I am a ', ' and I know it']"
      ]
     },
     "execution_count": 19,
     "metadata": {},
     "output_type": "execute_result"
    }
   ],
   "source": [
    "re.split('lion',a)"
   ]
  },
  {
   "cell_type": "code",
   "execution_count": 20,
   "id": "ffe48c5a",
   "metadata": {},
   "outputs": [
    {
     "data": {
      "text/plain": [
       "['I am a lion and I know it']"
      ]
     },
     "execution_count": 20,
     "metadata": {},
     "output_type": "execute_result"
    }
   ],
   "source": [
    "re.split('king',a)"
   ]
  },
  {
   "cell_type": "code",
   "execution_count": 23,
   "id": "2b97df28",
   "metadata": {},
   "outputs": [
    {
     "name": "stdout",
     "output_type": "stream",
     "text": [
      "Starting point is ----> 8 ending point is -----> 9\n",
      "Starting point is ----> 23 ending point is -----> 24\n"
     ]
    }
   ],
   "source": [
    "# finditer\n",
    "pattern = 'i'\n",
    "for match in re.finditer(pattern,a):\n",
    "    x = match.start()\n",
    "    y = match.end()\n",
    "    print(\"Starting point is ---->\",x,\"ending point is ----->\",y)\n"
   ]
  },
  {
   "cell_type": "code",
   "execution_count": 24,
   "id": "5c4c6de2",
   "metadata": {},
   "outputs": [],
   "source": [
    "pattern = 'parrot'\n",
    "for match in re.finditer(pattern,a):\n",
    "    x = match.start()\n",
    "    y = match.end()\n",
    "    print(\"Starting point is ---->\",x,\"ending point is ----->\",y)\n"
   ]
  },
  {
   "cell_type": "code",
   "execution_count": null,
   "id": "3043e47a",
   "metadata": {},
   "outputs": [],
   "source": [
    "#wap to find the email is valid or not ??\n",
    "# email = abc@123.com\n",
    "\n",
    "#wap to find all a in the string ----> I am a boy who owns a\n",
    "# laptop and also having\n",
    "# a phone.\n",
    "\n",
    "#wap to match the pattern and also try to replace the \n",
    "# value from tv to computer.\n",
    "# string = I am having a tv which is a smart tv.\n",
    "\n",
    "#wap to find the starting & ending point of the pattern \n",
    "# where your string is----> \"I am known with \n",
    "# unknown personality.\""
   ]
  }
 ],
 "metadata": {
  "kernelspec": {
   "display_name": "Python 3 (ipykernel)",
   "language": "python",
   "name": "python3"
  },
  "language_info": {
   "codemirror_mode": {
    "name": "ipython",
    "version": 3
   },
   "file_extension": ".py",
   "mimetype": "text/x-python",
   "name": "python",
   "nbconvert_exporter": "python",
   "pygments_lexer": "ipython3",
   "version": "3.9.7"
  }
 },
 "nbformat": 4,
 "nbformat_minor": 5
}
