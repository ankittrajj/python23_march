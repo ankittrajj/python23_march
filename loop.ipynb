{
 "cells": [
  {
   "cell_type": "code",
   "execution_count": 3,
   "id": "89954c49",
   "metadata": {},
   "outputs": [
    {
     "name": "stdout",
     "output_type": "stream",
     "text": [
      "0\n",
      "1\n",
      "2\n",
      "3\n",
      "4\n",
      "5\n",
      "6\n",
      "7\n",
      "8\n",
      "9\n",
      "10\n"
     ]
    }
   ],
   "source": [
    "# # loop---->2 type of loop\n",
    "# 1.for loop\n",
    "# 2. while loop\n",
    "\n",
    "# for loop\n",
    "#wap to print 0-10.\n",
    "# loop\n",
    "\n",
    "for i in range(11):\n",
    "    print(i)\n"
   ]
  },
  {
   "cell_type": "code",
   "execution_count": 7,
   "id": "cee6e3a1",
   "metadata": {},
   "outputs": [
    {
     "name": "stdout",
     "output_type": "stream",
     "text": [
      "1\n",
      "2\n",
      "3\n",
      "4\n",
      "5\n",
      "6\n",
      "7\n",
      "8\n",
      "9\n",
      "10\n"
     ]
    }
   ],
   "source": [
    "for i in range(1,11):\n",
    "    print(i)"
   ]
  },
  {
   "cell_type": "code",
   "execution_count": 12,
   "id": "e5845797",
   "metadata": {},
   "outputs": [
    {
     "name": "stdout",
     "output_type": "stream",
     "text": [
      "1\n",
      "4\n",
      "7\n",
      "10\n"
     ]
    }
   ],
   "source": [
    "#wap to print alternate numbers using loop.\n",
    "for i in range(1,11,3):\n",
    "    print(i)"
   ]
  },
  {
   "cell_type": "code",
   "execution_count": 19,
   "id": "d309822d",
   "metadata": {},
   "outputs": [
    {
     "name": "stdout",
     "output_type": "stream",
     "text": [
      "1\n",
      "3\n",
      "5\n",
      "7\n",
      "9\n",
      "11\n",
      "13\n",
      "15\n"
     ]
    }
   ],
   "source": [
    "#while loop\n",
    "#3step ----> declaration,cond,increment & decrement\n",
    "#1-10\n",
    "x = 1\n",
    "while x<=15:\n",
    "    print(x)\n",
    "#     x=x+1\n",
    "    x+=2\n",
    "#     x++"
   ]
  },
  {
   "cell_type": "code",
   "execution_count": null,
   "id": "9a45c27f",
   "metadata": {},
   "outputs": [],
   "source": [
    "#1.wap to print first 10 natural num.\n",
    "#2. wap to print -20 to 20.\n",
    "#3. calculate the sum of 1-10.\n",
    "#4.wap to count total number in a digit ?\n",
    "# number = 758669.\n",
    "# 5.print the number from -10 to -1.\n",
    "#6.wap to find the number is prime number or not?\n",
    "# 7.reverse the given integer----< 76452\n",
    "# "
   ]
  }
 ],
 "metadata": {
  "kernelspec": {
   "display_name": "Python 3 (ipykernel)",
   "language": "python",
   "name": "python3"
  },
  "language_info": {
   "codemirror_mode": {
    "name": "ipython",
    "version": 3
   },
   "file_extension": ".py",
   "mimetype": "text/x-python",
   "name": "python",
   "nbconvert_exporter": "python",
   "pygments_lexer": "ipython3",
   "version": "3.9.7"
  }
 },
 "nbformat": 4,
 "nbformat_minor": 5
}
