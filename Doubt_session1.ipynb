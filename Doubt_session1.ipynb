{
 "cells": [
  {
   "cell_type": "code",
   "execution_count": 6,
   "id": "52856490",
   "metadata": {},
   "outputs": [
    {
     "name": "stdout",
     "output_type": "stream",
     "text": [
      "2\n",
      "4\n",
      "6\n",
      "8\n",
      "10\n"
     ]
    }
   ],
   "source": [
    "#for loop\n",
    "# loop\n",
    "\n",
    "# 1-10\n",
    "for i in range(2,11,2):\n",
    "    print(i)"
   ]
  },
  {
   "cell_type": "code",
   "execution_count": 14,
   "id": "0387201c",
   "metadata": {},
   "outputs": [
    {
     "name": "stdout",
     "output_type": "stream",
     "text": [
      "2566080\n"
     ]
    }
   ],
   "source": [
    "a =[2,3,4,90,99,12]\n",
    "var = 1\n",
    "for t in a:\n",
    "    var=var*t\n",
    "print(var)"
   ]
  },
  {
   "cell_type": "code",
   "execution_count": 15,
   "id": "3c5ecb9a",
   "metadata": {},
   "outputs": [
    {
     "data": {
      "text/plain": [
       "['hello', 'bhai', 'I', 'am', 'chill op!']"
      ]
     },
     "execution_count": 15,
     "metadata": {},
     "output_type": "execute_result"
    }
   ],
   "source": [
    "#string\n",
    "a = ['hello','bhai','I','am','chill op!']\n",
    "a"
   ]
  },
  {
   "cell_type": "code",
   "execution_count": 16,
   "id": "8f0e36a4",
   "metadata": {},
   "outputs": [
    {
     "name": "stdout",
     "output_type": "stream",
     "text": [
      "hello\n",
      "bhai\n",
      "I\n",
      "am\n",
      "chill op!\n"
     ]
    }
   ],
   "source": [
    "for i in a:\n",
    "    print(i)"
   ]
  },
  {
   "cell_type": "code",
   "execution_count": 19,
   "id": "94e05091",
   "metadata": {},
   "outputs": [
    {
     "data": {
      "text/plain": [
       "('hello', 'bhai')"
      ]
     },
     "execution_count": 19,
     "metadata": {},
     "output_type": "execute_result"
    }
   ],
   "source": [
    "# Write a Python program to add an item in a tuple.\n",
    "\n",
    "a = ('hello',)\n",
    "b= ('bhai',)\n",
    "c=a+b\n",
    "c"
   ]
  },
  {
   "cell_type": "code",
   "execution_count": 20,
   "id": "d1dc7629",
   "metadata": {},
   "outputs": [
    {
     "data": {
      "text/plain": [
       "tuple"
      ]
     },
     "execution_count": 20,
     "metadata": {},
     "output_type": "execute_result"
    }
   ],
   "source": [
    "type(c)"
   ]
  },
  {
   "cell_type": "code",
   "execution_count": 22,
   "id": "6ca9d45b",
   "metadata": {},
   "outputs": [
    {
     "data": {
      "text/plain": [
       "\"(1234, 'get on the dance floor')\""
      ]
     },
     "execution_count": 22,
     "metadata": {},
     "output_type": "execute_result"
    }
   ],
   "source": [
    "# Write a Python program to convert a tuple to a string.\n",
    "x = (1234,\"get on the dance floor\")\n",
    "y = str(x)\n",
    "y"
   ]
  },
  {
   "cell_type": "code",
   "execution_count": 23,
   "id": "52274b58",
   "metadata": {},
   "outputs": [
    {
     "data": {
      "text/plain": [
       "\"(1234, 'get on the dance floor')\""
      ]
     },
     "execution_count": 23,
     "metadata": {},
     "output_type": "execute_result"
    }
   ],
   "source": [
    "y"
   ]
  },
  {
   "cell_type": "code",
   "execution_count": 24,
   "id": "01293659",
   "metadata": {},
   "outputs": [
    {
     "data": {
      "text/plain": [
       "str"
      ]
     },
     "execution_count": 24,
     "metadata": {},
     "output_type": "execute_result"
    }
   ],
   "source": [
    "type(y)"
   ]
  },
  {
   "cell_type": "code",
   "execution_count": 25,
   "id": "a572d3ed",
   "metadata": {},
   "outputs": [
    {
     "data": {
      "text/plain": [
       "['(',\n",
       " '1',\n",
       " '2',\n",
       " '3',\n",
       " '4',\n",
       " ',',\n",
       " ' ',\n",
       " \"'\",\n",
       " 'g',\n",
       " 'e',\n",
       " 't',\n",
       " ' ',\n",
       " 'o',\n",
       " 'n',\n",
       " ' ',\n",
       " 't',\n",
       " 'h',\n",
       " 'e',\n",
       " ' ',\n",
       " 'd',\n",
       " 'a',\n",
       " 'n',\n",
       " 'c',\n",
       " 'e',\n",
       " ' ',\n",
       " 'f',\n",
       " 'l',\n",
       " 'o',\n",
       " 'o',\n",
       " 'r',\n",
       " \"'\",\n",
       " ')']"
      ]
     },
     "execution_count": 25,
     "metadata": {},
     "output_type": "execute_result"
    }
   ],
   "source": [
    "list(y)"
   ]
  },
  {
   "cell_type": "code",
   "execution_count": 26,
   "id": "7b612444",
   "metadata": {},
   "outputs": [
    {
     "data": {
      "text/plain": [
       "('(',\n",
       " '1',\n",
       " '2',\n",
       " '3',\n",
       " '4',\n",
       " ',',\n",
       " ' ',\n",
       " \"'\",\n",
       " 'g',\n",
       " 'e',\n",
       " 't',\n",
       " ' ',\n",
       " 'o',\n",
       " 'n',\n",
       " ' ',\n",
       " 't',\n",
       " 'h',\n",
       " 'e',\n",
       " ' ',\n",
       " 'd',\n",
       " 'a',\n",
       " 'n',\n",
       " 'c',\n",
       " 'e',\n",
       " ' ',\n",
       " 'f',\n",
       " 'l',\n",
       " 'o',\n",
       " 'o',\n",
       " 'r',\n",
       " \"'\",\n",
       " ')')"
      ]
     },
     "execution_count": 26,
     "metadata": {},
     "output_type": "execute_result"
    }
   ],
   "source": [
    "tuple(y)"
   ]
  },
  {
   "cell_type": "code",
   "execution_count": 28,
   "id": "5582b67c",
   "metadata": {},
   "outputs": [
    {
     "name": "stdout",
     "output_type": "stream",
     "text": [
      "230 is greater\n"
     ]
    }
   ],
   "source": [
    "# # #find the 2nd largest num from the list.\n",
    "# # a=[78,90,67,45,23,99]\n",
    "# maximum of two no. and minimum of two no. in a list ...sir ye wala\n",
    "# #\n",
    "\n",
    "a = [230,89]\n",
    "if a[0]>a[1]:\n",
    "    print(a[0],\"is greater\")\n",
    "else:\n",
    "    print(a[1],\"is grteater\")"
   ]
  },
  {
   "cell_type": "code",
   "execution_count": 30,
   "id": "f89de336",
   "metadata": {},
   "outputs": [
    {
     "name": "stdout",
     "output_type": "stream",
     "text": [
      "230\n",
      "89\n",
      "34\n",
      "78\n",
      "45\n",
      "36\n"
     ]
    }
   ],
   "source": [
    "a = [230,89,34,78,45,36]\n",
    "for i in a:\n",
    "    \n",
    "    print(i)"
   ]
  },
  {
   "cell_type": "code",
   "execution_count": 31,
   "id": "74a18337",
   "metadata": {},
   "outputs": [
    {
     "name": "stdout",
     "output_type": "stream",
     "text": [
      "56\n"
     ]
    }
   ],
   "source": [
    "x = [1,3,2,90,56,34]\n",
    "max1 = x[0]\n",
    "for i in x:\n",
    "    if (i>max1):\n",
    "        max1 = i\n",
    "max1 \n",
    "x.remove(max1)\n",
    "max1 = x[0]\n",
    "for i in x:\n",
    "    if (i>max1):\n",
    "        max1 = i\n",
    "print(max1)\n"
   ]
  },
  {
   "cell_type": "code",
   "execution_count": 37,
   "id": "63644efe",
   "metadata": {},
   "outputs": [],
   "source": [
    "a = [23,45,67,789,90]\n",
    "a.remove(789)"
   ]
  },
  {
   "cell_type": "code",
   "execution_count": 35,
   "id": "150cd013",
   "metadata": {},
   "outputs": [
    {
     "data": {
      "text/plain": [
       "[23, 45, 67, 90]"
      ]
     },
     "execution_count": 35,
     "metadata": {},
     "output_type": "execute_result"
    }
   ],
   "source": [
    "a"
   ]
  },
  {
   "cell_type": "code",
   "execution_count": 40,
   "id": "256e3aed",
   "metadata": {},
   "outputs": [],
   "source": [
    "#tuple ---- slicing\n",
    "a = (23,45,67,789,90)"
   ]
  },
  {
   "cell_type": "code",
   "execution_count": 41,
   "id": "2005603e",
   "metadata": {},
   "outputs": [
    {
     "data": {
      "text/plain": [
       "(23, 45, 67, 789, 90)"
      ]
     },
     "execution_count": 41,
     "metadata": {},
     "output_type": "execute_result"
    }
   ],
   "source": [
    "a"
   ]
  },
  {
   "cell_type": "code",
   "execution_count": 42,
   "id": "25737358",
   "metadata": {},
   "outputs": [
    {
     "data": {
      "text/plain": [
       "67"
      ]
     },
     "execution_count": 42,
     "metadata": {},
     "output_type": "execute_result"
    }
   ],
   "source": [
    "a[2]"
   ]
  },
  {
   "cell_type": "code",
   "execution_count": 43,
   "id": "26858755",
   "metadata": {},
   "outputs": [
    {
     "data": {
      "text/plain": [
       "(67, 789, 90)"
      ]
     },
     "execution_count": 43,
     "metadata": {},
     "output_type": "execute_result"
    }
   ],
   "source": [
    "a[2:5]"
   ]
  },
  {
   "cell_type": "code",
   "execution_count": 44,
   "id": "c6acf178",
   "metadata": {},
   "outputs": [
    {
     "data": {
      "text/plain": [
       "(23, 45, 67, 789, 90)"
      ]
     },
     "execution_count": 44,
     "metadata": {},
     "output_type": "execute_result"
    }
   ],
   "source": [
    "a[:]"
   ]
  },
  {
   "cell_type": "code",
   "execution_count": 45,
   "id": "f321da1d",
   "metadata": {},
   "outputs": [
    {
     "data": {
      "text/plain": [
       "(23, 45, 67, 789, 90)"
      ]
     },
     "execution_count": 45,
     "metadata": {},
     "output_type": "execute_result"
    }
   ],
   "source": [
    "a[0:]"
   ]
  },
  {
   "cell_type": "code",
   "execution_count": 46,
   "id": "f869c37c",
   "metadata": {},
   "outputs": [
    {
     "data": {
      "text/plain": [
       "(23, 45, 67, 789, 90)"
      ]
     },
     "execution_count": 46,
     "metadata": {},
     "output_type": "execute_result"
    }
   ],
   "source": [
    "a[:5]"
   ]
  },
  {
   "cell_type": "code",
   "execution_count": 49,
   "id": "dd9a98ce",
   "metadata": {},
   "outputs": [],
   "source": [
    "# program to remove an item from a tuple.\n",
    "a = (23,45,67,789,90)\n",
    "x = a[:3]"
   ]
  },
  {
   "cell_type": "code",
   "execution_count": 50,
   "id": "d190f5e4",
   "metadata": {},
   "outputs": [],
   "source": [
    "y = a[4:]"
   ]
  },
  {
   "cell_type": "code",
   "execution_count": 51,
   "id": "3a01ae2b",
   "metadata": {},
   "outputs": [
    {
     "data": {
      "text/plain": [
       "(23, 45, 67, 90)"
      ]
     },
     "execution_count": 51,
     "metadata": {},
     "output_type": "execute_result"
    }
   ],
   "source": [
    "z = x+y\n",
    "z"
   ]
  },
  {
   "cell_type": "code",
   "execution_count": 52,
   "id": "caa5542f",
   "metadata": {},
   "outputs": [
    {
     "data": {
      "text/plain": [
       "[23, 45, 67, 789, 90]"
      ]
     },
     "execution_count": 52,
     "metadata": {},
     "output_type": "execute_result"
    }
   ],
   "source": [
    "a = (23,45,67,789,90)\n",
    "b = list(a)\n",
    "b"
   ]
  },
  {
   "cell_type": "code",
   "execution_count": 53,
   "id": "6c618e8f",
   "metadata": {},
   "outputs": [
    {
     "data": {
      "text/plain": [
       "90"
      ]
     },
     "execution_count": 53,
     "metadata": {},
     "output_type": "execute_result"
    }
   ],
   "source": [
    "b.pop()"
   ]
  },
  {
   "cell_type": "code",
   "execution_count": 54,
   "id": "c31b386f",
   "metadata": {},
   "outputs": [
    {
     "data": {
      "text/plain": [
       "[23, 45, 67, 789]"
      ]
     },
     "execution_count": 54,
     "metadata": {},
     "output_type": "execute_result"
    }
   ],
   "source": [
    "b"
   ]
  },
  {
   "cell_type": "code",
   "execution_count": 57,
   "id": "e6cb427f",
   "metadata": {},
   "outputs": [],
   "source": [
    "n = tuple(b)"
   ]
  },
  {
   "cell_type": "code",
   "execution_count": 58,
   "id": "2a0187d4",
   "metadata": {},
   "outputs": [
    {
     "data": {
      "text/plain": [
       "tuple"
      ]
     },
     "execution_count": 58,
     "metadata": {},
     "output_type": "execute_result"
    }
   ],
   "source": [
    "type(n)"
   ]
  },
  {
   "cell_type": "code",
   "execution_count": 59,
   "id": "7bd16dac",
   "metadata": {},
   "outputs": [
    {
     "data": {
      "text/plain": [
       "(23, 45, 67, 789)"
      ]
     },
     "execution_count": 59,
     "metadata": {},
     "output_type": "execute_result"
    }
   ],
   "source": [
    "n"
   ]
  },
  {
   "cell_type": "code",
   "execution_count": 60,
   "id": "c3658f5f",
   "metadata": {},
   "outputs": [
    {
     "data": {
      "text/plain": [
       "2"
      ]
     },
     "execution_count": 60,
     "metadata": {},
     "output_type": "execute_result"
    }
   ],
   "source": [
    "a = (23,45,67,789,90)\n",
    "a.index(67)"
   ]
  },
  {
   "cell_type": "code",
   "execution_count": 61,
   "id": "78d8f055",
   "metadata": {},
   "outputs": [
    {
     "data": {
      "text/plain": [
       "(True, 6.25, 'hina', 45, 25)"
      ]
     },
     "execution_count": 61,
     "metadata": {},
     "output_type": "execute_result"
    }
   ],
   "source": [
    "\n",
    "f = 25,45,\"hina\",6.25,True\n",
    "f[-1:-6:-1]\n"
   ]
  },
  {
   "cell_type": "code",
   "execution_count": 62,
   "id": "1e6ad122",
   "metadata": {},
   "outputs": [
    {
     "data": {
      "text/plain": [
       "(25, 45, 'hina', 6.25, True)"
      ]
     },
     "execution_count": 62,
     "metadata": {},
     "output_type": "execute_result"
    }
   ],
   "source": [
    "f"
   ]
  },
  {
   "cell_type": "code",
   "execution_count": 63,
   "id": "f5db135a",
   "metadata": {},
   "outputs": [
    {
     "data": {
      "text/plain": [
       "(True, 6.25, 'hina', 45, 25)"
      ]
     },
     "execution_count": 63,
     "metadata": {},
     "output_type": "execute_result"
    }
   ],
   "source": [
    "f[::-1]"
   ]
  },
  {
   "cell_type": "code",
   "execution_count": 64,
   "id": "94bf5a0c",
   "metadata": {},
   "outputs": [
    {
     "data": {
      "text/plain": [
       "{2, 6, 8, 12, 66, 90}"
      ]
     },
     "execution_count": 64,
     "metadata": {},
     "output_type": "execute_result"
    }
   ],
   "source": [
    "# # [1,2,3,(67,90)]\n",
    "# k=2\n",
    "# (2,6,8,12,90,90,90,66,66)\n",
    "# Removing duplicates from tuple.\n",
    "\n",
    "\n",
    "a = (2,6,8,12,90,90,90,66,66)\n",
    "x = set(a)\n",
    "x"
   ]
  },
  {
   "cell_type": "code",
   "execution_count": 69,
   "id": "4695a0ff",
   "metadata": {},
   "outputs": [
    {
     "data": {
      "text/plain": [
       "[1, 2, 3, 'hello']"
      ]
     },
     "execution_count": 69,
     "metadata": {},
     "output_type": "execute_result"
    }
   ],
   "source": [
    "# Python – Adding Tuple to List and vice – versa.\n",
    "\n",
    "a = [1,2,3]\n",
    "b=('hello')\n",
    "a.append(b)\n",
    "a"
   ]
  },
  {
   "cell_type": "code",
   "execution_count": 70,
   "id": "3f7b536d",
   "metadata": {},
   "outputs": [
    {
     "data": {
      "text/plain": [
       "[1, 2, 3, 'hello']"
      ]
     },
     "execution_count": 70,
     "metadata": {},
     "output_type": "execute_result"
    }
   ],
   "source": [
    "a"
   ]
  },
  {
   "cell_type": "code",
   "execution_count": 76,
   "id": "1f2823d5",
   "metadata": {},
   "outputs": [
    {
     "data": {
      "text/plain": [
       "[(2, 6, 8, 10)]"
      ]
     },
     "execution_count": 76,
     "metadata": {},
     "output_type": "execute_result"
    }
   ],
   "source": [
    "a = [(2,6,8,10)]\n",
    "b = list(a)\n",
    "b\n",
    "\n",
    "\n",
    "# k =2 \n",
    "# for i in b:\n",
    "#     if k % i == 0:\n",
    "#         print(\"divisible\")\n",
    "#     else:\n",
    "#         print(\"ND\")"
   ]
  },
  {
   "cell_type": "code",
   "execution_count": 77,
   "id": "c5f5a4a1",
   "metadata": {},
   "outputs": [
    {
     "data": {
      "text/plain": [
       "['anup', 'meena', 3.2, (5, 25, 84, 'hemant')]"
      ]
     },
     "execution_count": 77,
     "metadata": {},
     "output_type": "execute_result"
    }
   ],
   "source": [
    "# add tuple in list\n",
    "k = [\"anup\",\"meena\",3.2]\n",
    "k += (5,25,84,\"hemant\"),\n",
    "k\n"
   ]
  },
  {
   "cell_type": "code",
   "execution_count": null,
   "id": "793228b8",
   "metadata": {},
   "outputs": [],
   "source": []
  }
 ],
 "metadata": {
  "kernelspec": {
   "display_name": "Python 3 (ipykernel)",
   "language": "python",
   "name": "python3"
  },
  "language_info": {
   "codemirror_mode": {
    "name": "ipython",
    "version": 3
   },
   "file_extension": ".py",
   "mimetype": "text/x-python",
   "name": "python",
   "nbconvert_exporter": "python",
   "pygments_lexer": "ipython3",
   "version": "3.9.7"
  }
 },
 "nbformat": 4,
 "nbformat_minor": 5
}
