{
 "cells": [
  {
   "cell_type": "code",
   "execution_count": 1,
   "id": "2b28bebb",
   "metadata": {},
   "outputs": [],
   "source": [
    "# syntax\n",
    "# define the class----> class\n",
    "# define the name of the class"
   ]
  },
  {
   "cell_type": "code",
   "execution_count": 2,
   "id": "931d449a",
   "metadata": {},
   "outputs": [
    {
     "name": "stdout",
     "output_type": "stream",
     "text": [
      "abc 23\n"
     ]
    },
    {
     "data": {
      "text/plain": [
       "<__main__.student at 0x1c091951ca0>"
      ]
     },
     "execution_count": 2,
     "metadata": {},
     "output_type": "execute_result"
    }
   ],
   "source": [
    "class student:\n",
    "    name = 'abc'\n",
    "    age=23\n",
    "    print(name,age)\n",
    "    \n",
    "student()"
   ]
  },
  {
   "cell_type": "code",
   "execution_count": 19,
   "id": "b8b0c1e9",
   "metadata": {},
   "outputs": [
    {
     "name": "stdout",
     "output_type": "stream",
     "text": [
      "<__main__.student object at 0x000001C091A55610>\n",
      "Aman\n"
     ]
    }
   ],
   "source": [
    "#class obj & function\n",
    "class student:\n",
    "    def fun(name='Hello',age=34):\n",
    "        print(name)\n",
    "        print(age)\n",
    "        \n",
    "        \n",
    "s = student()\n",
    "s.fun(\"Aman\")\n",
    "        \n",
    "    "
   ]
  },
  {
   "cell_type": "code",
   "execution_count": 6,
   "id": "c850f8cd",
   "metadata": {},
   "outputs": [
    {
     "ename": "NameError",
     "evalue": "name 'fun' is not defined",
     "output_type": "error",
     "traceback": [
      "\u001b[1;31m---------------------------------------------------------------------------\u001b[0m",
      "\u001b[1;31mNameError\u001b[0m                                 Traceback (most recent call last)",
      "\u001b[1;32m~\\AppData\\Local\\Temp/ipykernel_9272/529771688.py\u001b[0m in \u001b[0;36m<module>\u001b[1;34m\u001b[0m\n\u001b[1;32m----> 1\u001b[1;33m \u001b[0mfun\u001b[0m\u001b[1;33m(\u001b[0m\u001b[1;33m)\u001b[0m\u001b[1;33m\u001b[0m\u001b[1;33m\u001b[0m\u001b[0m\n\u001b[0m",
      "\u001b[1;31mNameError\u001b[0m: name 'fun' is not defined"
     ]
    }
   ],
   "source": [
    "fun()"
   ]
  },
  {
   "cell_type": "code",
   "execution_count": 25,
   "id": "a1e1708c",
   "metadata": {},
   "outputs": [
    {
     "ename": "TypeError",
     "evalue": "student() takes no arguments",
     "output_type": "error",
     "traceback": [
      "\u001b[1;31m---------------------------------------------------------------------------\u001b[0m",
      "\u001b[1;31mTypeError\u001b[0m                                 Traceback (most recent call last)",
      "\u001b[1;32m~\\AppData\\Local\\Temp/ipykernel_9272/3598411311.py\u001b[0m in \u001b[0;36m<module>\u001b[1;34m\u001b[0m\n\u001b[0;32m      6\u001b[0m \u001b[1;33m\u001b[0m\u001b[0m\n\u001b[0;32m      7\u001b[0m \u001b[1;33m\u001b[0m\u001b[0m\n\u001b[1;32m----> 8\u001b[1;33m \u001b[0ms\u001b[0m \u001b[1;33m=\u001b[0m \u001b[0mstudent\u001b[0m\u001b[1;33m(\u001b[0m\u001b[1;34m'Aman'\u001b[0m\u001b[1;33m,\u001b[0m\u001b[1;36m78\u001b[0m\u001b[1;33m)\u001b[0m\u001b[1;33m\u001b[0m\u001b[1;33m\u001b[0m\u001b[0m\n\u001b[0m\u001b[0;32m      9\u001b[0m \u001b[0ms\u001b[0m\u001b[1;33m\u001b[0m\u001b[1;33m\u001b[0m\u001b[0m\n\u001b[0;32m     10\u001b[0m \u001b[1;31m# s.fun(\"Aman\",78)\u001b[0m\u001b[1;33m\u001b[0m\u001b[1;33m\u001b[0m\u001b[0m\n",
      "\u001b[1;31mTypeError\u001b[0m: student() takes no arguments"
     ]
    }
   ],
   "source": [
    "#class obj & function\n",
    "class student:\n",
    "    def fun(self,name,age):\n",
    "        print(self.name)\n",
    "        print(self.age)\n",
    "        \n",
    "        \n",
    "s = student('Aman',78)\n",
    "s\n",
    "# s.fun(\"Aman\",78)\n",
    "        \n",
    "    "
   ]
  },
  {
   "cell_type": "code",
   "execution_count": 30,
   "id": "7a5731db",
   "metadata": {},
   "outputs": [
    {
     "name": "stdout",
     "output_type": "stream",
     "text": [
      "HEllo I am from class function!!\n"
     ]
    }
   ],
   "source": [
    "#wap to add two numbers with the help of class and obj.\n",
    "class student:\n",
    "    def details(python):\n",
    "        print(\"HEllo I am from class function!!\")\n",
    "        \n",
    "s = student()\n",
    "s.details()"
   ]
  },
  {
   "cell_type": "code",
   "execution_count": 32,
   "id": "27972a00",
   "metadata": {},
   "outputs": [
    {
     "name": "stdout",
     "output_type": "stream",
     "text": [
      "aman\n",
      "23\n"
     ]
    }
   ],
   "source": [
    "class me:\n",
    "    def info(self,name,age):\n",
    "        print(name)\n",
    "        print(age)\n",
    "        \n",
    "m = me()\n",
    "m.info('aman',23)"
   ]
  },
  {
   "cell_type": "code",
   "execution_count": 33,
   "id": "483a187d",
   "metadata": {},
   "outputs": [],
   "source": [
    "# 1.make a class of emp and try to fetch out the data.\n",
    "\n",
    "# 2.make a class of students and try to claculate his/her\n",
    "# percentage.\n",
    "\n",
    "# 3.make a class of furniture and try to find out the \n",
    "# total cost of bed , bed bought = 12 bed cost/each = 12K\n",
    "\n",
    "# 4.Make a class of car and try to calculate the \n",
    "# average speed."
   ]
  },
  {
   "cell_type": "code",
   "execution_count": 34,
   "id": "61f2e410",
   "metadata": {},
   "outputs": [
    {
     "name": "stdout",
     "output_type": "stream",
     "text": [
      "A 222 20k\n"
     ]
    }
   ],
   "source": [
    "class emp:\n",
    "    def details(self,name,age,salary):\n",
    "        print(name,age,salary)\n",
    "        \n",
    "x = emp()\n",
    "x.details('A',222,'20k')"
   ]
  },
  {
   "cell_type": "code",
   "execution_count": 35,
   "id": "be835c54",
   "metadata": {},
   "outputs": [
    {
     "name": "stdout",
     "output_type": "stream",
     "text": [
      "50.0\n"
     ]
    }
   ],
   "source": [
    "class student:\n",
    "    def per(self,s1,s2,s3,total_marks):\n",
    "        obtain_marks = s1+s2+s3\n",
    "        percentage = (obtain_marks*100/total_marks)\n",
    "        print(percentage)\n",
    "        \n",
    "        \n",
    "s = student()\n",
    "s.per(20,40,90,300)"
   ]
  },
  {
   "cell_type": "code",
   "execution_count": 36,
   "id": "6e5fb77d",
   "metadata": {},
   "outputs": [
    {
     "data": {
      "text/plain": [
       "144000"
      ]
     },
     "execution_count": 36,
     "metadata": {},
     "output_type": "execute_result"
    }
   ],
   "source": [
    "#3\n",
    "class furniture:\n",
    "    def price(self):\n",
    "        bed = 12\n",
    "        each_cost_bed = 12000\n",
    "        total_cost = bed*each_cost_bed\n",
    "        return total_cost\n",
    "    \n",
    "f = furniture()\n",
    "f.price()\n",
    "    "
   ]
  },
  {
   "cell_type": "code",
   "execution_count": 37,
   "id": "994d6146",
   "metadata": {},
   "outputs": [
    {
     "data": {
      "text/plain": [
       "144000"
      ]
     },
     "execution_count": 37,
     "metadata": {},
     "output_type": "execute_result"
    }
   ],
   "source": [
    "class furniture:\n",
    "    def price(self,bed,each_cost_bed):\n",
    "        total_cost = bed*each_cost_bed\n",
    "        return total_cost\n",
    "    \n",
    "f = furniture()\n",
    "f.price(12,12000)"
   ]
  },
  {
   "cell_type": "code",
   "execution_count": 40,
   "id": "42be7775",
   "metadata": {},
   "outputs": [
    {
     "data": {
      "text/plain": [
       "100.0"
      ]
     },
     "execution_count": 40,
     "metadata": {},
     "output_type": "execute_result"
    }
   ],
   "source": [
    "# 4.Make a class of car and try to calculate the \n",
    "# average speed.\n",
    "\n",
    "class car:\n",
    "    def speed(self,d1,d2,t1,t2):\n",
    "        total_avg_dis = (d1+d2)/2\n",
    "        total_avg_time = (t1+t2)/2\n",
    "        \n",
    "        \n",
    "        avg_speed = total_avg_dis/total_avg_time\n",
    "        return avg_speed\n",
    "    \n",
    "c = car()\n",
    "c.speed(20,30,20/60,10/60)\n",
    "    \n",
    "    "
   ]
  },
  {
   "cell_type": "code",
   "execution_count": null,
   "id": "e5a44b01",
   "metadata": {},
   "outputs": [],
   "source": []
  }
 ],
 "metadata": {
  "kernelspec": {
   "display_name": "Python 3 (ipykernel)",
   "language": "python",
   "name": "python3"
  },
  "language_info": {
   "codemirror_mode": {
    "name": "ipython",
    "version": 3
   },
   "file_extension": ".py",
   "mimetype": "text/x-python",
   "name": "python",
   "nbconvert_exporter": "python",
   "pygments_lexer": "ipython3",
   "version": "3.9.7"
  }
 },
 "nbformat": 4,
 "nbformat_minor": 5
}
