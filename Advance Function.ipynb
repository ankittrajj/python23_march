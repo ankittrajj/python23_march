{
 "cells": [
  {
   "cell_type": "code",
   "execution_count": 2,
   "id": "ee290be8",
   "metadata": {},
   "outputs": [
    {
     "name": "stdout",
     "output_type": "stream",
     "text": [
      "Fizz 3\n",
      "Buzz 5\n",
      "Fizz 6\n",
      "Fizz 9\n",
      "Buzz 10\n",
      "Fizz 12\n",
      "FizzBuzz 15\n",
      "Fizz 18\n",
      "Buzz 20\n",
      "Fizz 21\n",
      "Fizz 24\n",
      "Buzz 25\n",
      "Fizz 27\n",
      "FizzBuzz 30\n",
      "Fizz 33\n",
      "Buzz 35\n",
      "Fizz 36\n",
      "Fizz 39\n",
      "Buzz 40\n",
      "Fizz 42\n",
      "FizzBuzz 45\n",
      "Fizz 48\n",
      "Buzz 50\n"
     ]
    }
   ],
   "source": [
    "a = 32\n",
    "for i in range(1,51):\n",
    "    if i%3==0 and i%5==0:\n",
    "        print(\"FizzBuzz\",i)\n",
    "    elif i% 5 == 0:\n",
    "        print(\"Buzz\",i)\n",
    "    elif i % 3 == 0:\n",
    "        print(\"Fizz\",i)"
   ]
  },
  {
   "cell_type": "code",
   "execution_count": 3,
   "id": "1b6e6ede",
   "metadata": {},
   "outputs": [],
   "source": [
    "# lambda\n",
    "# map\n",
    "# filter\n",
    "# reduce\n",
    "\n",
    "\n",
    "# syntax---->\n",
    "# lambda var: operation\n",
    "# call the lambda function\n",
    "\n",
    "\n",
    "#wap to add two number with function\n",
    "def add(x,y):\n",
    "    z = x+y\n",
    "    return z"
   ]
  },
  {
   "cell_type": "code",
   "execution_count": 4,
   "id": "33a2b97b",
   "metadata": {},
   "outputs": [
    {
     "data": {
      "text/plain": [
       "3"
      ]
     },
     "execution_count": 4,
     "metadata": {},
     "output_type": "execute_result"
    }
   ],
   "source": [
    "add(1,2)"
   ]
  },
  {
   "cell_type": "code",
   "execution_count": 5,
   "id": "10bdc984",
   "metadata": {},
   "outputs": [
    {
     "data": {
      "text/plain": [
       "9"
      ]
     },
     "execution_count": 5,
     "metadata": {},
     "output_type": "execute_result"
    }
   ],
   "source": [
    "#wap to add two number with lambda function.\n",
    "\n",
    "\n",
    "x = lambda x,y:x+y\n",
    "x(4,5)"
   ]
  },
  {
   "cell_type": "code",
   "execution_count": 6,
   "id": "d6ff2a00",
   "metadata": {},
   "outputs": [
    {
     "data": {
      "text/plain": [
       "17"
      ]
     },
     "execution_count": 6,
     "metadata": {},
     "output_type": "execute_result"
    }
   ],
   "source": [
    "#wap to add a number into x with the help of lambda function?\n",
    "x = lambda a:a+5\n",
    "x(12)"
   ]
  },
  {
   "cell_type": "code",
   "execution_count": 7,
   "id": "f2f0600e",
   "metadata": {},
   "outputs": [
    {
     "data": {
      "text/plain": [
       "6"
      ]
     },
     "execution_count": 7,
     "metadata": {},
     "output_type": "execute_result"
    }
   ],
   "source": [
    "y=lambda x,y=4:x+y\n",
    "y(2)\n"
   ]
  },
  {
   "cell_type": "code",
   "execution_count": 17,
   "id": "32f58a4b",
   "metadata": {},
   "outputs": [
    {
     "name": "stdout",
     "output_type": "stream",
     "text": [
      "[45, 56, 78, 23, 12, 55, 34, 77, 13, 43, 31, 48, 32]\n"
     ]
    }
   ],
   "source": [
    "# filter function.\n",
    "\n",
    "a=[45,56,78,23,12,90,55,34,77,13,43,98,31,48,32]\n",
    "z = list(filter(lambda x:x<80,a))\n",
    "print(z)"
   ]
  },
  {
   "cell_type": "code",
   "execution_count": 22,
   "id": "e6368f3b",
   "metadata": {},
   "outputs": [
    {
     "name": "stdout",
     "output_type": "stream",
     "text": [
      "[78, 90, 92, 78]\n"
     ]
    }
   ],
   "source": [
    "#wap to filter out the age of senior citizen from a given data\n",
    "age = [34,56,78,90,92,44,12,34,78]\n",
    "def fun(age):\n",
    "    if age>=60:\n",
    "        return True\n",
    "    else:\n",
    "        return False\n",
    "    \n",
    "x = list(filter(fun,age))\n",
    "print(x)\n",
    "    \n"
   ]
  },
  {
   "cell_type": "code",
   "execution_count": 19,
   "id": "1d9d7845",
   "metadata": {},
   "outputs": [
    {
     "ename": "NameError",
     "evalue": "name 'b' is not defined",
     "output_type": "error",
     "traceback": [
      "\u001b[1;31m---------------------------------------------------------------------------\u001b[0m",
      "\u001b[1;31mNameError\u001b[0m                                 Traceback (most recent call last)",
      "\u001b[1;32m~\\AppData\\Local\\Temp/ipykernel_11160/2234493955.py\u001b[0m in \u001b[0;36m<module>\u001b[1;34m\u001b[0m\n\u001b[1;32m----> 1\u001b[1;33m \u001b[0mx\u001b[0m \u001b[1;33m=\u001b[0m \u001b[1;32mlambda\u001b[0m \u001b[0ma\u001b[0m\u001b[1;33m,\u001b[0m\u001b[0mb\u001b[0m\u001b[1;33m,\u001b[0m\u001b[0mc\u001b[0m\u001b[1;33m,\u001b[0m\u001b[0md\u001b[0m\u001b[1;33m:\u001b[0m\u001b[0ma\u001b[0m\u001b[1;33m+\u001b[0m\u001b[0mb\u001b[0m\u001b[1;33m,\u001b[0m\u001b[0ma\u001b[0m\u001b[1;33m-\u001b[0m\u001b[0mb\u001b[0m\u001b[1;33m\u001b[0m\u001b[1;33m\u001b[0m\u001b[0m\n\u001b[0m",
      "\u001b[1;31mNameError\u001b[0m: name 'b' is not defined"
     ]
    }
   ],
   "source": [
    "x = lambda a,b,c,d:a+b,a-b"
   ]
  },
  {
   "cell_type": "code",
   "execution_count": 20,
   "id": "7fb8d08d",
   "metadata": {},
   "outputs": [],
   "source": [
    "x = lambda a,b,c,d:a+b-c*d"
   ]
  },
  {
   "cell_type": "code",
   "execution_count": 21,
   "id": "fa6f1164",
   "metadata": {},
   "outputs": [
    {
     "data": {
      "text/plain": [
       "-9"
      ]
     },
     "execution_count": 21,
     "metadata": {},
     "output_type": "execute_result"
    }
   ],
   "source": [
    "x(1,2,3,4)"
   ]
  },
  {
   "cell_type": "code",
   "execution_count": 24,
   "id": "42d976ea",
   "metadata": {},
   "outputs": [
    {
     "data": {
      "text/plain": [
       "(True, True, True, True)"
      ]
     },
     "execution_count": 24,
     "metadata": {},
     "output_type": "execute_result"
    }
   ],
   "source": [
    "# map function-----> used to perform operation\n",
    "# [1,2,3,34,5,6,7,8]\n",
    "\n",
    "tuple(map(fun,x))"
   ]
  },
  {
   "cell_type": "code",
   "execution_count": 29,
   "id": "6efc3e9f",
   "metadata": {},
   "outputs": [
    {
     "data": {
      "text/plain": [
       "[1, 4, 9, 16]"
      ]
     },
     "execution_count": 29,
     "metadata": {},
     "output_type": "execute_result"
    }
   ],
   "source": [
    "a = [1,2,3,4]\n",
    "list(map(lambda x: x*x,a))\n"
   ]
  },
  {
   "cell_type": "code",
   "execution_count": 31,
   "id": "900f4c08",
   "metadata": {},
   "outputs": [],
   "source": [
    "a = [2,3,4,5,6]\n",
    "z = lambda x:x+a\n"
   ]
  },
  {
   "cell_type": "code",
   "execution_count": 32,
   "id": "4609cdd2",
   "metadata": {},
   "outputs": [
    {
     "data": {
      "text/plain": [
       "<function __main__.<lambda>(x)>"
      ]
     },
     "execution_count": 32,
     "metadata": {},
     "output_type": "execute_result"
    }
   ],
   "source": [
    "z"
   ]
  },
  {
   "cell_type": "code",
   "execution_count": 34,
   "id": "5caa9064",
   "metadata": {},
   "outputs": [],
   "source": [
    "#avg \n",
    "x = lambda a,b,c,d,e : (a+b+c+d+e)/5"
   ]
  },
  {
   "cell_type": "code",
   "execution_count": 35,
   "id": "872e7939",
   "metadata": {},
   "outputs": [
    {
     "data": {
      "text/plain": [
       "3.0"
      ]
     },
     "execution_count": 35,
     "metadata": {},
     "output_type": "execute_result"
    }
   ],
   "source": [
    "x(1,2,3,4,5)"
   ]
  },
  {
   "cell_type": "code",
   "execution_count": 36,
   "id": "f6a8a75c",
   "metadata": {},
   "outputs": [
    {
     "name": "stdout",
     "output_type": "stream",
     "text": [
      "26 c is max\n"
     ]
    }
   ],
   "source": [
    "a = 23\n",
    "b =24\n",
    "c =26\n",
    "\n",
    "def fun():\n",
    "    if a>b and a>c:\n",
    "        print(a,\"a is max\")\n",
    "    elif b>a and b>c:\n",
    "        print(b,\"b is max\")\n",
    "    else:\n",
    "        print(c,\"c is max\")       \n",
    "                \n",
    "    "
   ]
  },
  {
   "cell_type": "code",
   "execution_count": null,
   "id": "baaf9c7e",
   "metadata": {},
   "outputs": [],
   "source": [
    "# lambda a,b,c:a if a>b and a>c elif "
   ]
  }
 ],
 "metadata": {
  "kernelspec": {
   "display_name": "Python 3 (ipykernel)",
   "language": "python",
   "name": "python3"
  },
  "language_info": {
   "codemirror_mode": {
    "name": "ipython",
    "version": 3
   },
   "file_extension": ".py",
   "mimetype": "text/x-python",
   "name": "python",
   "nbconvert_exporter": "python",
   "pygments_lexer": "ipython3",
   "version": "3.9.7"
  }
 },
 "nbformat": 4,
 "nbformat_minor": 5
}
