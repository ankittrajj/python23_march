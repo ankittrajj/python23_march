{
 "cells": [
  {
   "cell_type": "code",
   "execution_count": 7,
   "id": "da82ef7d",
   "metadata": {},
   "outputs": [
    {
     "name": "stdout",
     "output_type": "stream",
     "text": [
      "{'name': 'xyz', 'age': 23, 'marks': 90}\n"
     ]
    }
   ],
   "source": [
    "#list\n",
    "# tuple\n",
    "# Dict\n",
    "\n",
    "a={\n",
    "    'name':'xyz',\n",
    "    'age':23,\n",
    "    'marks':90\n",
    "}\n",
    "print(a)"
   ]
  },
  {
   "cell_type": "code",
   "execution_count": 21,
   "id": "e43eecf5",
   "metadata": {},
   "outputs": [
    {
     "data": {
      "text/plain": [
       "{'name': 'ABC', 'age': 34, 'salary': 40000}"
      ]
     },
     "execution_count": 21,
     "metadata": {},
     "output_type": "execute_result"
    }
   ],
   "source": [
    "#wap to make a dict of emp having name ,age & salary.\n",
    "x = {\n",
    "    'name':'ABC',\n",
    "    'age':34,\n",
    "    'salary':40000\n",
    "}\n",
    "x"
   ]
  },
  {
   "cell_type": "code",
   "execution_count": 22,
   "id": "de26f421",
   "metadata": {},
   "outputs": [
    {
     "data": {
      "text/plain": [
       "{'name': 'ABC', 'age': 34, 'salary': 40000}"
      ]
     },
     "execution_count": 22,
     "metadata": {},
     "output_type": "execute_result"
    }
   ],
   "source": [
    "x"
   ]
  },
  {
   "cell_type": "code",
   "execution_count": 23,
   "id": "6da84e72",
   "metadata": {},
   "outputs": [
    {
     "data": {
      "text/plain": [
       "dict"
      ]
     },
     "execution_count": 23,
     "metadata": {},
     "output_type": "execute_result"
    }
   ],
   "source": [
    "# slicing with the indexing.\n",
    "type(x)"
   ]
  },
  {
   "cell_type": "code",
   "execution_count": 24,
   "id": "883f8082",
   "metadata": {},
   "outputs": [
    {
     "data": {
      "text/plain": [
       "23"
      ]
     },
     "execution_count": 24,
     "metadata": {},
     "output_type": "execute_result"
    }
   ],
   "source": [
    "#dict have no index.\n",
    "s = [23,34,56]\n",
    "s[0]"
   ]
  },
  {
   "cell_type": "code",
   "execution_count": 27,
   "id": "50455b4d",
   "metadata": {},
   "outputs": [
    {
     "ename": "TypeError",
     "evalue": "unhashable type: 'list'",
     "output_type": "error",
     "traceback": [
      "\u001b[1;31m---------------------------------------------------------------------------\u001b[0m",
      "\u001b[1;31mTypeError\u001b[0m                                 Traceback (most recent call last)",
      "\u001b[1;32m~\\AppData\\Local\\Temp/ipykernel_11964/1162311929.py\u001b[0m in \u001b[0;36m<module>\u001b[1;34m\u001b[0m\n\u001b[0;32m      1\u001b[0m \u001b[1;31m# but we can perform slicing(a kind of)\u001b[0m\u001b[1;33m\u001b[0m\u001b[1;33m\u001b[0m\u001b[0m\n\u001b[1;32m----> 2\u001b[1;33m \u001b[0mx\u001b[0m\u001b[1;33m[\u001b[0m\u001b[1;33m[\u001b[0m\u001b[1;34m'salary'\u001b[0m\u001b[1;33m,\u001b[0m\u001b[1;34m'age'\u001b[0m\u001b[1;33m]\u001b[0m\u001b[1;33m]\u001b[0m\u001b[1;33m\u001b[0m\u001b[1;33m\u001b[0m\u001b[0m\n\u001b[0m",
      "\u001b[1;31mTypeError\u001b[0m: unhashable type: 'list'"
     ]
    }
   ],
   "source": [
    "# but we can perform slicing(a kind of)\n",
    "x[['salary','age']]"
   ]
  },
  {
   "cell_type": "code",
   "execution_count": 26,
   "id": "9c5693ec",
   "metadata": {},
   "outputs": [
    {
     "name": "stderr",
     "output_type": "stream",
     "text": [
      "<>:1: SyntaxWarning: list indices must be integers or slices, not str; perhaps you missed a comma?\n",
      "<>:1: SyntaxWarning: list indices must be integers or slices, not str; perhaps you missed a comma?\n",
      "C:\\Users\\Satyam\\AppData\\Local\\Temp/ipykernel_11964/3322048515.py:1: SyntaxWarning: list indices must be integers or slices, not str; perhaps you missed a comma?\n",
      "  x[['salary']['age']]\n"
     ]
    },
    {
     "ename": "TypeError",
     "evalue": "list indices must be integers or slices, not str",
     "output_type": "error",
     "traceback": [
      "\u001b[1;31m---------------------------------------------------------------------------\u001b[0m",
      "\u001b[1;31mTypeError\u001b[0m                                 Traceback (most recent call last)",
      "\u001b[1;32m~\\AppData\\Local\\Temp/ipykernel_11964/3322048515.py\u001b[0m in \u001b[0;36m<module>\u001b[1;34m\u001b[0m\n\u001b[1;32m----> 1\u001b[1;33m \u001b[0mx\u001b[0m\u001b[1;33m[\u001b[0m\u001b[1;33m[\u001b[0m\u001b[1;34m'salary'\u001b[0m\u001b[1;33m]\u001b[0m\u001b[1;33m[\u001b[0m\u001b[1;34m'age'\u001b[0m\u001b[1;33m]\u001b[0m\u001b[1;33m]\u001b[0m\u001b[1;33m\u001b[0m\u001b[1;33m\u001b[0m\u001b[0m\n\u001b[0m",
      "\u001b[1;31mTypeError\u001b[0m: list indices must be integers or slices, not str"
     ]
    }
   ],
   "source": [
    "x[['salary']['age']]"
   ]
  },
  {
   "cell_type": "code",
   "execution_count": 28,
   "id": "e58499a6",
   "metadata": {},
   "outputs": [
    {
     "data": {
      "text/plain": [
       "40000"
      ]
     },
     "execution_count": 28,
     "metadata": {},
     "output_type": "execute_result"
    }
   ],
   "source": [
    "x['salary']"
   ]
  },
  {
   "cell_type": "code",
   "execution_count": 30,
   "id": "e1eaa4d7",
   "metadata": {},
   "outputs": [],
   "source": [
    "#mutable & immutable\n",
    "x['name']='xyz'"
   ]
  },
  {
   "cell_type": "code",
   "execution_count": 31,
   "id": "c13146b0",
   "metadata": {},
   "outputs": [
    {
     "data": {
      "text/plain": [
       "{'name': 'xyz', 'age': 34, 'salary': 40000}"
      ]
     },
     "execution_count": 31,
     "metadata": {},
     "output_type": "execute_result"
    }
   ],
   "source": [
    "x"
   ]
  },
  {
   "cell_type": "code",
   "execution_count": 36,
   "id": "062e54fb",
   "metadata": {},
   "outputs": [
    {
     "data": {
      "text/plain": [
       "{'name': ['ABC', 'Shobhit', 'Akkash'],\n",
       " 'age': [34, 45, 56],\n",
       " 'salary': [40000, 3]}"
      ]
     },
     "execution_count": 36,
     "metadata": {},
     "output_type": "execute_result"
    }
   ],
   "source": [
    "x = {\n",
    "    'name':['ABC','Shobhit','Akkash'],\n",
    "    'age':[34,45,56],\n",
    "    'salary':[40000,3]\n",
    "}\n",
    "x"
   ]
  },
  {
   "cell_type": "code",
   "execution_count": 37,
   "id": "6d3fb615",
   "metadata": {},
   "outputs": [
    {
     "data": {
      "text/plain": [
       "{'name': ['ABC', 'Shobhit', 'Akkash'],\n",
       " 'age': (34, 45, 56),\n",
       " 'salary': [40000, 3]}"
      ]
     },
     "execution_count": 37,
     "metadata": {},
     "output_type": "execute_result"
    }
   ],
   "source": [
    "x = {\n",
    "    'name':['ABC','Shobhit','Akkash'],\n",
    "    'age':(34,45,56),\n",
    "    'salary':[40000,3]\n",
    "}\n",
    "x"
   ]
  },
  {
   "cell_type": "code",
   "execution_count": 38,
   "id": "346eb89d",
   "metadata": {},
   "outputs": [
    {
     "data": {
      "text/plain": [
       "['ABC', 'Shobhit', 'Akkash']"
      ]
     },
     "execution_count": 38,
     "metadata": {},
     "output_type": "execute_result"
    }
   ],
   "source": [
    "x['name']"
   ]
  },
  {
   "cell_type": "code",
   "execution_count": 41,
   "id": "c617ff66",
   "metadata": {},
   "outputs": [
    {
     "data": {
      "text/plain": [
       "['Shobhit', 'Akkash']"
      ]
     },
     "execution_count": 41,
     "metadata": {},
     "output_type": "execute_result"
    }
   ],
   "source": [
    "x['name'][1:]"
   ]
  },
  {
   "cell_type": "code",
   "execution_count": 42,
   "id": "db6ffd8d",
   "metadata": {},
   "outputs": [
    {
     "data": {
      "text/plain": [
       "(34, 45, 56)"
      ]
     },
     "execution_count": 42,
     "metadata": {},
     "output_type": "execute_result"
    }
   ],
   "source": [
    "x['age']"
   ]
  },
  {
   "cell_type": "code",
   "execution_count": 43,
   "id": "3b7c51b5",
   "metadata": {},
   "outputs": [
    {
     "data": {
      "text/plain": [
       "45"
      ]
     },
     "execution_count": 43,
     "metadata": {},
     "output_type": "execute_result"
    }
   ],
   "source": [
    "x['age'][1]"
   ]
  },
  {
   "cell_type": "code",
   "execution_count": 45,
   "id": "9eb9ff61",
   "metadata": {},
   "outputs": [],
   "source": [
    "x['name'] = 4"
   ]
  },
  {
   "cell_type": "code",
   "execution_count": 47,
   "id": "2136f418",
   "metadata": {},
   "outputs": [
    {
     "data": {
      "text/plain": [
       "4"
      ]
     },
     "execution_count": 47,
     "metadata": {},
     "output_type": "execute_result"
    }
   ],
   "source": [
    "x['name']"
   ]
  },
  {
   "cell_type": "code",
   "execution_count": 48,
   "id": "d1a5b775",
   "metadata": {},
   "outputs": [
    {
     "data": {
      "text/plain": [
       "{'name': ['ABC', 'Shobhit', 'Akkash'],\n",
       " 'age': (34, 45, 56),\n",
       " 'salary': [40000, 3]}"
      ]
     },
     "execution_count": 48,
     "metadata": {},
     "output_type": "execute_result"
    }
   ],
   "source": [
    "x = {\n",
    "    'name':['ABC','Shobhit','Akkash'],\n",
    "    'age':(34,45,56),\n",
    "    'salary':[40000,3]\n",
    "}\n",
    "x"
   ]
  },
  {
   "cell_type": "code",
   "execution_count": 51,
   "id": "65a9bf75",
   "metadata": {},
   "outputs": [],
   "source": [
    "x['name'][1]='sobit bro likhna band kar bhai'"
   ]
  },
  {
   "cell_type": "code",
   "execution_count": 52,
   "id": "6dc5d00c",
   "metadata": {},
   "outputs": [
    {
     "data": {
      "text/plain": [
       "{'name': ['ABC', 'sobit bro likhna band kar bhai', 'Akkash'],\n",
       " 'age': (34, 45, 56),\n",
       " 'salary': [40000, 3]}"
      ]
     },
     "execution_count": 52,
     "metadata": {},
     "output_type": "execute_result"
    }
   ],
   "source": [
    "x"
   ]
  },
  {
   "cell_type": "code",
   "execution_count": 57,
   "id": "da79c15e",
   "metadata": {},
   "outputs": [
    {
     "ename": "TypeError",
     "evalue": "'tuple' object does not support item assignment",
     "output_type": "error",
     "traceback": [
      "\u001b[1;31m---------------------------------------------------------------------------\u001b[0m",
      "\u001b[1;31mTypeError\u001b[0m                                 Traceback (most recent call last)",
      "\u001b[1;32m~\\AppData\\Local\\Temp/ipykernel_11964/2288747499.py\u001b[0m in \u001b[0;36m<module>\u001b[1;34m\u001b[0m\n\u001b[1;32m----> 1\u001b[1;33m \u001b[0mx\u001b[0m\u001b[1;33m[\u001b[0m\u001b[1;34m'age'\u001b[0m\u001b[1;33m]\u001b[0m\u001b[1;33m[\u001b[0m\u001b[1;36m2\u001b[0m\u001b[1;33m]\u001b[0m\u001b[1;33m=\u001b[0m\u001b[1;36m65\u001b[0m\u001b[1;33m\u001b[0m\u001b[1;33m\u001b[0m\u001b[0m\n\u001b[0m",
      "\u001b[1;31mTypeError\u001b[0m: 'tuple' object does not support item assignment"
     ]
    }
   ],
   "source": [
    "x['age'][2]=65"
   ]
  },
  {
   "cell_type": "code",
   "execution_count": 61,
   "id": "455caec5",
   "metadata": {},
   "outputs": [],
   "source": [
    "#let's make a dict inside a dic\n",
    "x = {\n",
    "    'name':'ghj',\n",
    "    'age':34,\n",
    "    'salary':34892,\n",
    "    \n",
    "    'z':{\n",
    "        'number':123,\n",
    "        'add':'UP'\n",
    "    }\n",
    "    \n",
    "}"
   ]
  },
  {
   "cell_type": "code",
   "execution_count": 62,
   "id": "91882643",
   "metadata": {},
   "outputs": [
    {
     "data": {
      "text/plain": [
       "{'name': 'ghj', 'age': 34, 'salary': 34892, 'z': {'number': 123, 'add': 'UP'}}"
      ]
     },
     "execution_count": 62,
     "metadata": {},
     "output_type": "execute_result"
    }
   ],
   "source": [
    "x"
   ]
  },
  {
   "cell_type": "code",
   "execution_count": 64,
   "id": "911b7487",
   "metadata": {},
   "outputs": [],
   "source": [
    "x = {\n",
    "    'name':'ghj',\n",
    "    'age':34,\n",
    "    'salary':34892,\n",
    "    0:0,\n",
    "    \n",
    "    'z':{\n",
    "        'number':123,\n",
    "        'add':'UP',\n",
    "        0:'hello'\n",
    "    }\n",
    "    \n",
    "}"
   ]
  },
  {
   "cell_type": "code",
   "execution_count": 65,
   "id": "5d4145bd",
   "metadata": {},
   "outputs": [
    {
     "data": {
      "text/plain": [
       "{'name': 'ghj',\n",
       " 'age': 34,\n",
       " 'salary': 34892,\n",
       " 0: 0,\n",
       " 'z': {'number': 123, 'add': 'UP', 0: 'hello'}}"
      ]
     },
     "execution_count": 65,
     "metadata": {},
     "output_type": "execute_result"
    }
   ],
   "source": [
    "x"
   ]
  },
  {
   "cell_type": "code",
   "execution_count": 66,
   "id": "a073e4cd",
   "metadata": {},
   "outputs": [],
   "source": [
    "x = {\n",
    "    'name':'ghj',\n",
    "    'age':34,\n",
    "    'salary':34892,\n",
    "    0:0,\n",
    "    '1':'0',\n",
    "    \n",
    "    'z':{\n",
    "        'number':123,\n",
    "        'add':'UP',\n",
    "        0:'hello',\n",
    "        '1':1,\n",
    "        '1':'12367'\n",
    "    }\n",
    "    \n",
    "}"
   ]
  },
  {
   "cell_type": "code",
   "execution_count": 67,
   "id": "9bc940af",
   "metadata": {},
   "outputs": [
    {
     "data": {
      "text/plain": [
       "{'name': 'ghj',\n",
       " 'age': 34,\n",
       " 'salary': 34892,\n",
       " 0: 0,\n",
       " '1': '0',\n",
       " 'z': {'number': 123, 'add': 'UP', 0: 'hello', '1': '12367'}}"
      ]
     },
     "execution_count": 67,
     "metadata": {},
     "output_type": "execute_result"
    }
   ],
   "source": [
    "x"
   ]
  },
  {
   "cell_type": "code",
   "execution_count": 73,
   "id": "07f08331",
   "metadata": {},
   "outputs": [
    {
     "data": {
      "text/plain": [
       "'hello'"
      ]
     },
     "execution_count": 73,
     "metadata": {},
     "output_type": "execute_result"
    }
   ],
   "source": [
    "x['z'][0]"
   ]
  },
  {
   "cell_type": "code",
   "execution_count": 74,
   "id": "069d0e73",
   "metadata": {},
   "outputs": [
    {
     "data": {
      "text/plain": [
       "{'name': 'ghj',\n",
       " 'age': 34,\n",
       " 'salary': 34892,\n",
       " 0: 0,\n",
       " '1': '0',\n",
       " 'z': {'number': 123, 'add': 'UP', 0: 'hello', '1': '12367'}}"
      ]
     },
     "execution_count": 74,
     "metadata": {},
     "output_type": "execute_result"
    }
   ],
   "source": [
    "#method\n",
    "# keys\n",
    "x"
   ]
  },
  {
   "cell_type": "code",
   "execution_count": 75,
   "id": "cf60e176",
   "metadata": {},
   "outputs": [
    {
     "data": {
      "text/plain": [
       "dict_keys(['name', 'age', 'salary', 0, '1', 'z'])"
      ]
     },
     "execution_count": 75,
     "metadata": {},
     "output_type": "execute_result"
    }
   ],
   "source": [
    "x.keys()"
   ]
  },
  {
   "cell_type": "code",
   "execution_count": 76,
   "id": "9070b54d",
   "metadata": {},
   "outputs": [
    {
     "data": {
      "text/plain": [
       "dict_values(['ghj', 34, 34892, 0, '0', {'number': 123, 'add': 'UP', 0: 'hello', '1': '12367'}])"
      ]
     },
     "execution_count": 76,
     "metadata": {},
     "output_type": "execute_result"
    }
   ],
   "source": [
    "#value\n",
    "x.values()"
   ]
  },
  {
   "cell_type": "code",
   "execution_count": 77,
   "id": "e4bae682",
   "metadata": {},
   "outputs": [
    {
     "data": {
      "text/plain": [
       "dict_items([('name', 'ghj'), ('age', 34), ('salary', 34892), (0, 0), ('1', '0'), ('z', {'number': 123, 'add': 'UP', 0: 'hello', '1': '12367'})])"
      ]
     },
     "execution_count": 77,
     "metadata": {},
     "output_type": "execute_result"
    }
   ],
   "source": [
    "# items\n",
    "x.items()"
   ]
  },
  {
   "cell_type": "code",
   "execution_count": 78,
   "id": "b2552b81",
   "metadata": {},
   "outputs": [
    {
     "data": {
      "text/plain": [
       "6"
      ]
     },
     "execution_count": 78,
     "metadata": {},
     "output_type": "execute_result"
    }
   ],
   "source": [
    "#len\n",
    "# min\n",
    "# max\n",
    "\n",
    "len(x)"
   ]
  },
  {
   "cell_type": "code",
   "execution_count": 81,
   "id": "919d6783",
   "metadata": {},
   "outputs": [
    {
     "data": {
      "text/plain": [
       "'low'"
      ]
     },
     "execution_count": 81,
     "metadata": {},
     "output_type": "execute_result"
    }
   ],
   "source": [
    "#max\n",
    "\n",
    "s = {\n",
    "    'low':[23,34,78,9,45],\n",
    "    'high':[89,90,66,34]\n",
    "    \n",
    "}\n",
    "max(s)"
   ]
  },
  {
   "cell_type": "code",
   "execution_count": 85,
   "id": "4537dfae",
   "metadata": {},
   "outputs": [],
   "source": [
    "a = s['low']"
   ]
  },
  {
   "cell_type": "code",
   "execution_count": 86,
   "id": "5dc36060",
   "metadata": {},
   "outputs": [
    {
     "data": {
      "text/plain": [
       "[23, 34, 78, 9, 45]"
      ]
     },
     "execution_count": 86,
     "metadata": {},
     "output_type": "execute_result"
    }
   ],
   "source": [
    "a"
   ]
  },
  {
   "cell_type": "code",
   "execution_count": 87,
   "id": "bc09efca",
   "metadata": {},
   "outputs": [
    {
     "data": {
      "text/plain": [
       "78"
      ]
     },
     "execution_count": 87,
     "metadata": {},
     "output_type": "execute_result"
    }
   ],
   "source": [
    "max(a)"
   ]
  },
  {
   "cell_type": "code",
   "execution_count": 88,
   "id": "bbbb8a7b",
   "metadata": {},
   "outputs": [
    {
     "data": {
      "text/plain": [
       "9"
      ]
     },
     "execution_count": 88,
     "metadata": {},
     "output_type": "execute_result"
    }
   ],
   "source": [
    "min(a)"
   ]
  },
  {
   "cell_type": "code",
   "execution_count": 89,
   "id": "ab0e351f",
   "metadata": {},
   "outputs": [
    {
     "data": {
      "text/plain": [
       "78"
      ]
     },
     "execution_count": 89,
     "metadata": {},
     "output_type": "execute_result"
    }
   ],
   "source": [
    "max(s['low'])"
   ]
  },
  {
   "cell_type": "code",
   "execution_count": 91,
   "id": "c8b1c8b0",
   "metadata": {},
   "outputs": [
    {
     "data": {
      "text/plain": [
       "9"
      ]
     },
     "execution_count": 91,
     "metadata": {},
     "output_type": "execute_result"
    }
   ],
   "source": [
    "min(s['low'])"
   ]
  },
  {
   "cell_type": "code",
   "execution_count": 92,
   "id": "a9e24155",
   "metadata": {},
   "outputs": [
    {
     "data": {
      "text/plain": [
       "{'name': 'ghj',\n",
       " 'age': 34,\n",
       " 'salary': 34892,\n",
       " 0: 0,\n",
       " '1': '0',\n",
       " 'z': {'number': 123, 'add': 'UP', 0: 'hello', '1': '12367'}}"
      ]
     },
     "execution_count": 92,
     "metadata": {},
     "output_type": "execute_result"
    }
   ],
   "source": [
    "# task find the len of z.\n",
    "x"
   ]
  },
  {
   "cell_type": "code",
   "execution_count": 95,
   "id": "5f61552d",
   "metadata": {},
   "outputs": [
    {
     "data": {
      "text/plain": [
       "4"
      ]
     },
     "execution_count": 95,
     "metadata": {},
     "output_type": "execute_result"
    }
   ],
   "source": [
    "len(x['z'])"
   ]
  },
  {
   "cell_type": "code",
   "execution_count": null,
   "id": "b92833c0",
   "metadata": {},
   "outputs": [],
   "source": [
    "#update "
   ]
  }
 ],
 "metadata": {
  "kernelspec": {
   "display_name": "Python 3 (ipykernel)",
   "language": "python",
   "name": "python3"
  },
  "language_info": {
   "codemirror_mode": {
    "name": "ipython",
    "version": 3
   },
   "file_extension": ".py",
   "mimetype": "text/x-python",
   "name": "python",
   "nbconvert_exporter": "python",
   "pygments_lexer": "ipython3",
   "version": "3.9.7"
  }
 },
 "nbformat": 4,
 "nbformat_minor": 5
}
