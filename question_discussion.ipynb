{
 "cells": [
  {
   "cell_type": "code",
   "execution_count": 1,
   "id": "463db1ef",
   "metadata": {},
   "outputs": [
    {
     "name": "stdout",
     "output_type": "stream",
     "text": [
      "nw\n"
     ]
    }
   ],
   "source": [
    "#wap to print if n is odd, print wierd and  the range of 2-5,\n",
    "# print not wierd\n",
    "# if n is even and in the inclusive range of 6 to 20 print wierd\n",
    "# if n is even & greater than 20 print not wierd.\n",
    "\n",
    "\n",
    "\n",
    "n=100\n",
    "if n%2!=0:\n",
    "    if n>=2 and n<=5:\n",
    "        print(\"not wierd\")\n",
    "    print(\"Wierd\")\n",
    "elif n>=6 and n<=20:\n",
    "    print(\"Wierd\")\n",
    "elif n>20:\n",
    "    print(\"nw\")\n"
   ]
  },
  {
   "cell_type": "code",
   "execution_count": 2,
   "id": "57b27faf",
   "metadata": {},
   "outputs": [
    {
     "name": "stdout",
     "output_type": "stream",
     "text": [
      "Enter the num5\n",
      "C is max\n"
     ]
    }
   ],
   "source": [
    "# Take input of age of 3 people by user and \n",
    "# determine oldest and youngest among them.\n",
    "a=int(input(\"Enter the num\"));\n",
    "b=20\n",
    "c=30\n",
    "# max\n",
    "if a>b and a>c:\n",
    "    print(\"A is max\")\n",
    "elif b>a and b>c:\n",
    "    print(\"B is max\")\n",
    "elif c>a and c>b:\n",
    "    print(\"C is max\")\n",
    "# min\n",
    "elif a<b and a<c:\n",
    "    print(\"A is min\")\n",
    "elif b<a and b<c:\n",
    "    print(\"B is min\")\n",
    "elif c<a and c<b:\n",
    "    print(\"C is min\")\n",
    " \n",
    "\n"
   ]
  },
  {
   "cell_type": "code",
   "execution_count": 3,
   "id": "0f9f5c2f",
   "metadata": {},
   "outputs": [],
   "source": [
    "# A student will not be allowed to sit in exam if \n",
    "# his/her attendance is less than 75%.\n",
    "# Take following input from user\n",
    "# Number of classes held\n",
    "# Number of classes attended.\n",
    "# And print\n",
    "# percentage of class attended\n",
    "# Is student is allowed to sit in exam or not.\n",
    "# ________________________________________\n",
    "# 9.\n",
    "# Modify the above question to allow student to sit if\n",
    "# he/she has medical cause. Ask user if he/she has \n",
    "# medical cause or not ( 'Y' or 'N' ) and print accordingly."
   ]
  },
  {
   "cell_type": "code",
   "execution_count": 12,
   "id": "abcfe55e",
   "metadata": {},
   "outputs": [
    {
     "name": "stdout",
     "output_type": "stream",
     "text": [
      "78.0\n",
      "Do you have medical condition or not ? y\n",
      "Allowed\n"
     ]
    }
   ],
   "source": [
    "class_held = 100\n",
    "class_attend = 78\n",
    "per_of_class_attend = (class_attend/class_held)*100\n",
    "print(per_of_class_attend)\n",
    "\n",
    "# medical = \"y\"\n",
    "# medical_con='n'\n",
    "medical = input(\"Do you have medical condition or not ? \")\n",
    "if per_of_class_attend > 75 or medical=='y':\n",
    "    print(\"Allowed\")\n",
    "elif per_of_class_attend<75 :\n",
    "    print(\"not allowed\")\n",
    "# else:\n",
    "#     print(\"Not allowed\")"
   ]
  },
  {
   "cell_type": "code",
   "execution_count": 6,
   "id": "83a5ff23",
   "metadata": {},
   "outputs": [
    {
     "name": "stdout",
     "output_type": "stream",
     "text": [
      "enter any value100\n",
      "enter any value56\n",
      "56.00000000000001\n",
      "enter any valuen\n",
      "the student will be allowed\n"
     ]
    }
   ],
   "source": [
    "number_held=int(input(\"enter any value\"))\n",
    "number_attended=int(input(\"enter any value\"))\n",
    "percentage=(number_attended/number_held)*100\n",
    "print(percentage)\n",
    "medicalcause=input(\"enter any value\")\n",
    "if (percentage<75) and (medicalcause==\"N\"):\n",
    "    print(\"the student will not be allowed\")\n",
    "else:\n",
    "  print(\"the student will be allowed\")\n"
   ]
  },
  {
   "cell_type": "code",
   "execution_count": null,
   "id": "f8382c43",
   "metadata": {},
   "outputs": [],
   "source": []
  },
  {
   "cell_type": "code",
   "execution_count": null,
   "id": "f9532185",
   "metadata": {},
   "outputs": [],
   "source": []
  }
 ],
 "metadata": {
  "kernelspec": {
   "display_name": "Python 3 (ipykernel)",
   "language": "python",
   "name": "python3"
  },
  "language_info": {
   "codemirror_mode": {
    "name": "ipython",
    "version": 3
   },
   "file_extension": ".py",
   "mimetype": "text/x-python",
   "name": "python",
   "nbconvert_exporter": "python",
   "pygments_lexer": "ipython3",
   "version": "3.9.7"
  }
 },
 "nbformat": 4,
 "nbformat_minor": 5
}
