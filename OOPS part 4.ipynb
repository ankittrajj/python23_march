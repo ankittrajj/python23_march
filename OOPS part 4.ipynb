{
 "cells": [
  {
   "cell_type": "code",
   "execution_count": 1,
   "id": "3cac24f6",
   "metadata": {},
   "outputs": [],
   "source": [
    "def hello ():\n",
    "    print(\"smjhne ki kosis karo bhai function ko!!\")"
   ]
  },
  {
   "cell_type": "code",
   "execution_count": 2,
   "id": "c39e8599",
   "metadata": {},
   "outputs": [
    {
     "name": "stdout",
     "output_type": "stream",
     "text": [
      "smjhne ki kosis karo bhai function ko!!\n"
     ]
    }
   ],
   "source": [
    "hello()"
   ]
  },
  {
   "cell_type": "code",
   "execution_count": 9,
   "id": "543d2de7",
   "metadata": {},
   "outputs": [
    {
     "name": "stdout",
     "output_type": "stream",
     "text": [
      "choti ho bacchi ho kya??\n",
      "felling protected with 83 others!!\n"
     ]
    }
   ],
   "source": [
    "class hello:\n",
    "    def me(self):\n",
    "        print('choti ho bacchi ho kya??')\n",
    "    def _pro(self):\n",
    "        print(\"felling protected with 83 others!!\")\n",
    "        \n",
    "    def __you(self):\n",
    "        print('private code me privacy hoti hai bhai!!')\n",
    "        \n",
    "h = hello()\n",
    "h.me()\n",
    "# h.__you()\n",
    "h._pro()"
   ]
  },
  {
   "cell_type": "markdown",
   "id": "0175215b",
   "metadata": {},
   "source": [
    "# Polymorphism"
   ]
  },
  {
   "cell_type": "code",
   "execution_count": 10,
   "id": "b854c616",
   "metadata": {},
   "outputs": [
    {
     "name": "stdout",
     "output_type": "stream",
     "text": [
      "7\n"
     ]
    }
   ],
   "source": [
    "a = 6\n",
    "b=1\n",
    "c = a+b\n",
    "print(c)"
   ]
  },
  {
   "cell_type": "code",
   "execution_count": 11,
   "id": "4b3b50de",
   "metadata": {},
   "outputs": [
    {
     "name": "stdout",
     "output_type": "stream",
     "text": [
      "61\n"
     ]
    }
   ],
   "source": [
    "a = '6'\n",
    "b='1'\n",
    "c = a+b\n",
    "print(c)"
   ]
  },
  {
   "cell_type": "code",
   "execution_count": null,
   "id": "1389c409",
   "metadata": {},
   "outputs": [],
   "source": []
  },
  {
   "cell_type": "code",
   "execution_count": 13,
   "id": "bad8614e",
   "metadata": {},
   "outputs": [
    {
     "name": "stdout",
     "output_type": "stream",
     "text": [
      "13\n"
     ]
    }
   ],
   "source": [
    "p.add('1','3')"
   ]
  },
  {
   "cell_type": "markdown",
   "id": "b3df4611",
   "metadata": {},
   "source": [
    "# Operator Overloading\n"
   ]
  },
  {
   "cell_type": "code",
   "execution_count": 14,
   "id": "bb2cac8a",
   "metadata": {},
   "outputs": [
    {
     "name": "stdout",
     "output_type": "stream",
     "text": [
      "3\n"
     ]
    }
   ],
   "source": [
    "class a:\n",
    "    x = 2\n",
    "    y = 1\n",
    "    z = x+y\n",
    "    print(z)\n",
    "    \n",
    "c = a()\n",
    "\n",
    "    "
   ]
  },
  {
   "cell_type": "code",
   "execution_count": 15,
   "id": "d34d7169",
   "metadata": {},
   "outputs": [
    {
     "name": "stdout",
     "output_type": "stream",
     "text": [
      "21\n"
     ]
    }
   ],
   "source": [
    "class a:\n",
    "    x = '2'\n",
    "    y = '1'\n",
    "    z = x+y\n",
    "    print(z)\n",
    "    \n",
    "c = a()"
   ]
  },
  {
   "cell_type": "markdown",
   "id": "c8c68f49",
   "metadata": {},
   "source": [
    "# Method Overloading"
   ]
  },
  {
   "cell_type": "code",
   "execution_count": 18,
   "id": "26d8911c",
   "metadata": {},
   "outputs": [
    {
     "name": "stdout",
     "output_type": "stream",
     "text": [
      "6\n",
      "18\n",
      "36\n"
     ]
    }
   ],
   "source": [
    "class over:\n",
    "    def fun(self,a=4,b=9):\n",
    "        result = a*b\n",
    "        print(result)\n",
    "        \n",
    "        \n",
    "o = over()\n",
    "\n",
    "o.fun(2,3)\n",
    "o.fun(2)\n",
    "o.fun()\n",
    "        "
   ]
  },
  {
   "cell_type": "code",
   "execution_count": null,
   "id": "2c9f7360",
   "metadata": {},
   "outputs": [],
   "source": [
    "# overridding----> not supported!!\n",
    "class x:\n",
    "    def hello(self):\n",
    "        print('abc')\n",
    "        \n",
    "    def hello(self):\n",
    "        print('xyz')\n",
    "\n",
    "a = x()\n",
    "a.hello()"
   ]
  },
  {
   "cell_type": "markdown",
   "id": "b97e2372",
   "metadata": {},
   "source": [
    "# Abstraction"
   ]
  },
  {
   "cell_type": "code",
   "execution_count": 20,
   "id": "33f5ecb2",
   "metadata": {},
   "outputs": [
    {
     "name": "stdout",
     "output_type": "stream",
     "text": [
      "xyz\n"
     ]
    }
   ],
   "source": [
    "class x:\n",
    "    def hello(self):\n",
    "        print('abs')\n",
    "    def hello(self):\n",
    "        print('xyz')\n",
    "a=x()\n",
    "a.hello()\n"
   ]
  },
  {
   "cell_type": "code",
   "execution_count": 21,
   "id": "4d9f1600",
   "metadata": {},
   "outputs": [
    {
     "data": {
      "text/plain": [
       "20"
      ]
     },
     "execution_count": 21,
     "metadata": {},
     "output_type": "execute_result"
    }
   ],
   "source": [
    "a= 20\n",
    "a"
   ]
  },
  {
   "cell_type": "code",
   "execution_count": 22,
   "id": "c8064e65",
   "metadata": {},
   "outputs": [
    {
     "data": {
      "text/plain": [
       "10"
      ]
     },
     "execution_count": 22,
     "metadata": {},
     "output_type": "execute_result"
    }
   ],
   "source": [
    "a=10\n",
    "a"
   ]
  },
  {
   "cell_type": "code",
   "execution_count": 30,
   "id": "fd0b72c7",
   "metadata": {},
   "outputs": [
    {
     "ename": "TypeError",
     "evalue": "Can't instantiate abstract class demo with abstract method details",
     "output_type": "error",
     "traceback": [
      "\u001b[1;31m---------------------------------------------------------------------------\u001b[0m",
      "\u001b[1;31mTypeError\u001b[0m                                 Traceback (most recent call last)",
      "\u001b[1;32m~\\AppData\\Local\\Temp/ipykernel_10748/2295254708.py\u001b[0m in \u001b[0;36m<module>\u001b[1;34m\u001b[0m\n\u001b[0;32m     12\u001b[0m         \u001b[0mprint\u001b[0m\u001b[1;33m(\u001b[0m\u001b[1;34m'hello op!!'\u001b[0m\u001b[1;33m)\u001b[0m\u001b[1;33m\u001b[0m\u001b[1;33m\u001b[0m\u001b[0m\n\u001b[0;32m     13\u001b[0m \u001b[1;33m\u001b[0m\u001b[0m\n\u001b[1;32m---> 14\u001b[1;33m \u001b[0ms\u001b[0m \u001b[1;33m=\u001b[0m \u001b[0mdemo\u001b[0m\u001b[1;33m(\u001b[0m\u001b[1;33m)\u001b[0m\u001b[1;33m\u001b[0m\u001b[1;33m\u001b[0m\u001b[0m\n\u001b[0m\u001b[0;32m     15\u001b[0m \u001b[0ms\u001b[0m\u001b[1;33m.\u001b[0m\u001b[0mdetails\u001b[0m\u001b[1;33m(\u001b[0m\u001b[1;33m)\u001b[0m\u001b[1;33m\u001b[0m\u001b[1;33m\u001b[0m\u001b[0m\n",
      "\u001b[1;31mTypeError\u001b[0m: Can't instantiate abstract class demo with abstract method details"
     ]
    }
   ],
   "source": [
    "# abc /abstract method\n",
    "from abc import ABC, abstractmethod\n",
    "\n",
    "class student(ABC):\n",
    "    @abstractmethod\n",
    "    def info(self,name,age):\n",
    "        print(name,age)\n",
    "        \n",
    "class demo(student):\n",
    "    def details(self):\n",
    "        print('hello op!!')\n",
    "\n",
    "s = demo()\n",
    "s.details()"
   ]
  },
  {
   "cell_type": "code",
   "execution_count": 31,
   "id": "fb6f7a7c",
   "metadata": {},
   "outputs": [
    {
     "ename": "TypeError",
     "evalue": "Can't instantiate abstract class demo with abstract method details",
     "output_type": "error",
     "traceback": [
      "\u001b[1;31m---------------------------------------------------------------------------\u001b[0m",
      "\u001b[1;31mTypeError\u001b[0m                                 Traceback (most recent call last)",
      "\u001b[1;32m~\\AppData\\Local\\Temp/ipykernel_10748/4185377890.py\u001b[0m in \u001b[0;36m<module>\u001b[1;34m\u001b[0m\n\u001b[0;32m     11\u001b[0m         \u001b[0mprint\u001b[0m\u001b[1;33m(\u001b[0m\u001b[1;34m'hello op!!'\u001b[0m\u001b[1;33m)\u001b[0m\u001b[1;33m\u001b[0m\u001b[1;33m\u001b[0m\u001b[0m\n\u001b[0;32m     12\u001b[0m \u001b[1;33m\u001b[0m\u001b[0m\n\u001b[1;32m---> 13\u001b[1;33m \u001b[0ms\u001b[0m \u001b[1;33m=\u001b[0m \u001b[0mdemo\u001b[0m\u001b[1;33m(\u001b[0m\u001b[1;33m)\u001b[0m\u001b[1;33m\u001b[0m\u001b[1;33m\u001b[0m\u001b[0m\n\u001b[0m\u001b[0;32m     14\u001b[0m \u001b[0ms\u001b[0m\u001b[1;33m.\u001b[0m\u001b[0mdetails\u001b[0m\u001b[1;33m(\u001b[0m\u001b[1;33m)\u001b[0m\u001b[1;33m\u001b[0m\u001b[1;33m\u001b[0m\u001b[0m\n",
      "\u001b[1;31mTypeError\u001b[0m: Can't instantiate abstract class demo with abstract method details"
     ]
    }
   ],
   "source": [
    "from abc import ABC, abstractmethod\n",
    "\n",
    "class student(ABC):\n",
    "    @abstractmethod\n",
    "    def info(self,name,age):\n",
    "        print(name,age)\n",
    "        \n",
    "class demo(ABC):\n",
    "    @abstractmethod\n",
    "    def details(self):\n",
    "        print('hello op!!')\n",
    "\n",
    "s = demo()\n",
    "s.details()"
   ]
  },
  {
   "cell_type": "code",
   "execution_count": null,
   "id": "1fda50e6",
   "metadata": {},
   "outputs": [],
   "source": []
  }
 ],
 "metadata": {
  "kernelspec": {
   "display_name": "Python 3 (ipykernel)",
   "language": "python",
   "name": "python3"
  },
  "language_info": {
   "codemirror_mode": {
    "name": "ipython",
    "version": 3
   },
   "file_extension": ".py",
   "mimetype": "text/x-python",
   "name": "python",
   "nbconvert_exporter": "python",
   "pygments_lexer": "ipython3",
   "version": "3.9.7"
  }
 },
 "nbformat": 4,
 "nbformat_minor": 5
}
