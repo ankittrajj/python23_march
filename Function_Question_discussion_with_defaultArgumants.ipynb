{
 "cells": [
  {
   "cell_type": "code",
   "execution_count": 3,
   "id": "7c171f2b",
   "metadata": {},
   "outputs": [],
   "source": [
    "#palindrome!!\n",
    "x ='mam'\n",
    "y = x[::-1]\n",
    "def fun (x,y):\n",
    "    if x==y:\n",
    "        print(\"P\")\n",
    "    else:\n",
    "        print(\"NP\")\n",
    "    "
   ]
  },
  {
   "cell_type": "code",
   "execution_count": 4,
   "id": "60523038",
   "metadata": {},
   "outputs": [
    {
     "name": "stdout",
     "output_type": "stream",
     "text": [
      "P\n"
     ]
    }
   ],
   "source": [
    "fun(x,y)"
   ]
  },
  {
   "cell_type": "code",
   "execution_count": 16,
   "id": "77c02535",
   "metadata": {},
   "outputs": [],
   "source": [
    "def palindrome():\n",
    "    x = 'mam'\n",
    "    y = ''\n",
    "    for i in x:\n",
    "        y = i+y\n",
    "    # print(y)\n",
    "    if x==y:\n",
    "        print('palindrome')\n",
    "    else:\n",
    "         print('not')"
   ]
  },
  {
   "cell_type": "code",
   "execution_count": 17,
   "id": "1d1de01d",
   "metadata": {},
   "outputs": [
    {
     "name": "stdout",
     "output_type": "stream",
     "text": [
      "palindrome\n"
     ]
    }
   ],
   "source": [
    "palindrome()"
   ]
  },
  {
   "cell_type": "code",
   "execution_count": 36,
   "id": "3b646437",
   "metadata": {},
   "outputs": [],
   "source": [
    "x = '1111'\n",
    "y = ''\n",
    "def palindrome(x,y):\n",
    "    for i in x:\n",
    "        y = i+y\n",
    "    # print(y)\n",
    "    if x==y:\n",
    "        return('palindrome')\n",
    "    else:\n",
    "         return('not')"
   ]
  },
  {
   "cell_type": "code",
   "execution_count": 37,
   "id": "be6a42db",
   "metadata": {},
   "outputs": [
    {
     "data": {
      "text/plain": [
       "'palindrome'"
      ]
     },
     "execution_count": 37,
     "metadata": {},
     "output_type": "execute_result"
    }
   ],
   "source": [
    "palindrome(x,y)"
   ]
  },
  {
   "cell_type": "code",
   "execution_count": 46,
   "id": "be6e9dfc",
   "metadata": {},
   "outputs": [
    {
     "name": "stdout",
     "output_type": "stream",
     "text": [
      "marks obtained= 36\n",
      "60.0\n"
     ]
    }
   ],
   "source": [
    "# 5 students percentage\n",
    "def per():\n",
    "    sub1=12\n",
    "    sub2=13\n",
    "    sub3=11\n",
    "    total_marks = 60\n",
    "    marks_obtained = sub1+sub2+sub3\n",
    "    print(\"marks obtained=\",marks_obtained)\n",
    "\n",
    "    # def per():\n",
    "\n",
    "    per1 = (marks_obtained*100)/total_marks\n",
    "    print(per1)\n",
    "    \n",
    "per()\n"
   ]
  },
  {
   "cell_type": "code",
   "execution_count": 49,
   "id": "616f2556",
   "metadata": {},
   "outputs": [
    {
     "name": "stdout",
     "output_type": "stream",
     "text": [
      "5000\n",
      "Avg cost= 1000.0\n"
     ]
    }
   ],
   "source": [
    "# Wap to find out the average cost of 5 quantity each\n",
    "# quantity is having the value of 80 and if the value exceed by\n",
    "# avg value then also calculate the total price of whole quantity\n",
    "# avg value => 350\n",
    "\n",
    "cost = 80\n",
    "quantity = 5\n",
    "total_cost = cost*quantity\n",
    "print(total_cost)\n",
    "avg_cost = total_cost/quantity\n",
    "print(\"Avg cost=\",avg_cost)"
   ]
  },
  {
   "cell_type": "code",
   "execution_count": 50,
   "id": "1f763633",
   "metadata": {},
   "outputs": [
    {
     "name": "stdout",
     "output_type": "stream",
     "text": [
      "5000\n"
     ]
    }
   ],
   "source": [
    "if avg_cost>=350:\n",
    "    t_cost = cost*quantity\n",
    "    print(t_cost)"
   ]
  },
  {
   "cell_type": "code",
   "execution_count": 53,
   "id": "13669011",
   "metadata": {},
   "outputs": [],
   "source": [
    "#function----> with default arguments\n",
    "# add two numbers\n",
    "\n",
    "def add(x,y=9):\n",
    "    result = x+y\n",
    "    print(result)\n",
    "    "
   ]
  },
  {
   "cell_type": "code",
   "execution_count": 59,
   "id": "0c293156",
   "metadata": {},
   "outputs": [
    {
     "name": "stdout",
     "output_type": "stream",
     "text": [
      "5\n"
     ]
    }
   ],
   "source": [
    "add(1,4)"
   ]
  },
  {
   "cell_type": "code",
   "execution_count": 60,
   "id": "b3ef9f76",
   "metadata": {},
   "outputs": [
    {
     "ename": "SyntaxError",
     "evalue": "non-default argument follows default argument (Temp/ipykernel_7052/196525710.py, line 1)",
     "output_type": "error",
     "traceback": [
      "\u001b[1;36m  File \u001b[1;32m\"C:\\Users\\Satyam\\AppData\\Local\\Temp/ipykernel_7052/196525710.py\"\u001b[1;36m, line \u001b[1;32m1\u001b[0m\n\u001b[1;33m    def add(x=8,y):\u001b[0m\n\u001b[1;37m                 ^\u001b[0m\n\u001b[1;31mSyntaxError\u001b[0m\u001b[1;31m:\u001b[0m non-default argument follows default argument\n"
     ]
    }
   ],
   "source": [
    "def add(x=8,y):\n",
    "    result = x+y\n",
    "    print(result)\n",
    "    \n",
    "add(1,2)"
   ]
  },
  {
   "cell_type": "code",
   "execution_count": 61,
   "id": "e0fae4c7",
   "metadata": {},
   "outputs": [
    {
     "name": "stdout",
     "output_type": "stream",
     "text": [
      "3\n"
     ]
    }
   ],
   "source": [
    "def add(x=8,y=1):\n",
    "    result = x+y\n",
    "    print(result)\n",
    "    \n",
    "add(1,2)"
   ]
  },
  {
   "cell_type": "code",
   "execution_count": 67,
   "id": "cb85e110",
   "metadata": {},
   "outputs": [
    {
     "ename": "SyntaxError",
     "evalue": "non-default argument follows default argument (Temp/ipykernel_7052/3467259502.py, line 1)",
     "output_type": "error",
     "traceback": [
      "\u001b[1;36m  File \u001b[1;32m\"C:\\Users\\Satyam\\AppData\\Local\\Temp/ipykernel_7052/3467259502.py\"\u001b[1;36m, line \u001b[1;32m1\u001b[0m\n\u001b[1;33m    def add(x=8,y):\u001b[0m\n\u001b[1;37m                 ^\u001b[0m\n\u001b[1;31mSyntaxError\u001b[0m\u001b[1;31m:\u001b[0m non-default argument follows default argument\n"
     ]
    }
   ],
   "source": [
    "def add(x=8,y):\n",
    "    result = x+y\n",
    "    print(result)\n",
    "    \n",
    "add(1,y = 2)"
   ]
  },
  {
   "cell_type": "code",
   "execution_count": 70,
   "id": "3e2138e6",
   "metadata": {},
   "outputs": [
    {
     "data": {
      "text/plain": [
       "26"
      ]
     },
     "execution_count": 70,
     "metadata": {},
     "output_type": "execute_result"
    }
   ],
   "source": [
    "x=6\n",
    "y=1\n",
    "def add(a,b):\n",
    "    result = a+b\n",
    "    return result\n",
    "add(6,20)"
   ]
  },
  {
   "cell_type": "code",
   "execution_count": 72,
   "id": "09f46df3",
   "metadata": {},
   "outputs": [
    {
     "data": {
      "text/plain": [
       "8"
      ]
     },
     "execution_count": 72,
     "metadata": {},
     "output_type": "execute_result"
    }
   ],
   "source": [
    "\n",
    "def add(x,y):\n",
    "    x=6\n",
    "    y=2\n",
    "    result = x+y\n",
    "    return result\n",
    "add(6,20)"
   ]
  },
  {
   "cell_type": "code",
   "execution_count": 79,
   "id": "c72d5b65",
   "metadata": {},
   "outputs": [],
   "source": [
    "#wap to get the output of \"hello\"  \"python\" with the help of default\n",
    "# argument function.\n",
    "def fun(x,y='python'):\n",
    "    result = x+\" \"+y\n",
    "    return result"
   ]
  },
  {
   "cell_type": "code",
   "execution_count": 85,
   "id": "138ce86a",
   "metadata": {},
   "outputs": [
    {
     "data": {
      "text/plain": [
       "'hello 56'"
      ]
     },
     "execution_count": 85,
     "metadata": {},
     "output_type": "execute_result"
    }
   ],
   "source": [
    "fun('hello','56')"
   ]
  },
  {
   "cell_type": "code",
   "execution_count": null,
   "id": "cc4ef417",
   "metadata": {},
   "outputs": [],
   "source": []
  }
 ],
 "metadata": {
  "kernelspec": {
   "display_name": "Python 3 (ipykernel)",
   "language": "python",
   "name": "python3"
  },
  "language_info": {
   "codemirror_mode": {
    "name": "ipython",
    "version": 3
   },
   "file_extension": ".py",
   "mimetype": "text/x-python",
   "name": "python",
   "nbconvert_exporter": "python",
   "pygments_lexer": "ipython3",
   "version": "3.9.7"
  }
 },
 "nbformat": 4,
 "nbformat_minor": 5
}
