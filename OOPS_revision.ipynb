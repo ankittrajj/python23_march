{
 "cells": [
  {
   "cell_type": "code",
   "execution_count": 1,
   "id": "f4cad630",
   "metadata": {},
   "outputs": [
    {
     "name": "stdout",
     "output_type": "stream",
     "text": [
      "Hello world, I am from OOPS\n"
     ]
    },
    {
     "data": {
      "text/plain": [
       "<__main__.python at 0x23168a63ee0>"
      ]
     },
     "execution_count": 1,
     "metadata": {},
     "output_type": "execute_result"
    }
   ],
   "source": [
    "# oops\n",
    "\n",
    "class python:\n",
    "    print(\"Hello world, I am from OOPS\")\n",
    "    \n",
    "python()"
   ]
  },
  {
   "cell_type": "code",
   "execution_count": 2,
   "id": "821031b6",
   "metadata": {},
   "outputs": [
    {
     "name": "stdout",
     "output_type": "stream",
     "text": [
      "10\n"
     ]
    },
    {
     "data": {
      "text/plain": [
       "<__main__.add_num at 0x23168a8ab80>"
      ]
     },
     "execution_count": 2,
     "metadata": {},
     "output_type": "execute_result"
    }
   ],
   "source": [
    "#wap to add two numbers with the help of oops.\n",
    "class add_num:\n",
    "    a=9\n",
    "    b=1\n",
    "    c=a+b\n",
    "    print(c)\n",
    "    \n",
    "add_num()"
   ]
  },
  {
   "cell_type": "code",
   "execution_count": 6,
   "id": "aa3e091c",
   "metadata": {},
   "outputs": [
    {
     "data": {
      "text/plain": [
       "5"
      ]
     },
     "execution_count": 6,
     "metadata": {},
     "output_type": "execute_result"
    }
   ],
   "source": [
    "class add:\n",
    "    def adding(self,a,b):\n",
    "        result = a+b\n",
    "        return result\n",
    "x = add()\n",
    "x.adding(2,3)"
   ]
  },
  {
   "cell_type": "code",
   "execution_count": 4,
   "id": "f034e3b8",
   "metadata": {},
   "outputs": [
    {
     "ename": "NameError",
     "evalue": "name 'adding' is not defined",
     "output_type": "error",
     "traceback": [
      "\u001b[1;31m---------------------------------------------------------------------------\u001b[0m",
      "\u001b[1;31mNameError\u001b[0m                                 Traceback (most recent call last)",
      "\u001b[1;32m~\\AppData\\Local\\Temp/ipykernel_10320/1839853438.py\u001b[0m in \u001b[0;36m<module>\u001b[1;34m\u001b[0m\n\u001b[1;32m----> 1\u001b[1;33m \u001b[0madding\u001b[0m\u001b[1;33m(\u001b[0m\u001b[1;36m2\u001b[0m\u001b[1;33m,\u001b[0m\u001b[1;36m3\u001b[0m\u001b[1;33m)\u001b[0m\u001b[1;33m\u001b[0m\u001b[1;33m\u001b[0m\u001b[0m\n\u001b[0m",
      "\u001b[1;31mNameError\u001b[0m: name 'adding' is not defined"
     ]
    }
   ],
   "source": [
    "adding(2,3)"
   ]
  },
  {
   "cell_type": "code",
   "execution_count": 7,
   "id": "74d0bc75",
   "metadata": {},
   "outputs": [
    {
     "name": "stdout",
     "output_type": "stream",
     "text": [
      "My name is ABC\n",
      "My age is  23\n"
     ]
    }
   ],
   "source": [
    "#wap to print name & age of a person using class & obj.\n",
    "class a:\n",
    "    def info(self,name,age):\n",
    "        print(\"My name is\", name)\n",
    "        print(\"My age is \",age)\n",
    "        \n",
    "x = a()\n",
    "x.info('ABC',23)"
   ]
  },
  {
   "cell_type": "code",
   "execution_count": 10,
   "id": "95401a00",
   "metadata": {},
   "outputs": [
    {
     "data": {
      "text/plain": [
       "23"
      ]
     },
     "execution_count": 10,
     "metadata": {},
     "output_type": "execute_result"
    }
   ],
   "source": [
    "# 0.Make a empty class and make its object to get the o/p.\n",
    "\n",
    "# 1.make a class of emp and try to fetch out the data.\n",
    "\n",
    "# 2.make a class of students and try to claculate his/her\n",
    "# percentage.\n",
    "\n",
    "# 3.make a class of furniture and try to find out the \n",
    "# total cost of bed , bed bought = 12 bed cost/each = 12K\n",
    "\n",
    "# 4.Make a class of car and try to calculate the \n",
    "# average speed.\n",
    "\n",
    "# WAp to reverse a number.\n",
    "class python:\n",
    "    def add(self,a,rev=2):\n",
    "        rem=a%10\n",
    "        rev=rev*10+rem\n",
    "        a=a/10\n",
    "        return rev\n",
    "   \n",
    "p=python()\n",
    "p.add(123)\n"
   ]
  },
  {
   "cell_type": "code",
   "execution_count": 16,
   "id": "f2a35e25",
   "metadata": {},
   "outputs": [
    {
     "name": "stdout",
     "output_type": "stream",
     "text": [
      "\n"
     ]
    },
    {
     "data": {
      "text/plain": [
       "<__main__.x at 0x2316a798fd0>"
      ]
     },
     "execution_count": 16,
     "metadata": {},
     "output_type": "execute_result"
    }
   ],
   "source": [
    "class x:\n",
    "    print()\n",
    "    \n",
    "x()"
   ]
  },
  {
   "cell_type": "code",
   "execution_count": 13,
   "id": "59e4dafb",
   "metadata": {},
   "outputs": [],
   "source": [
    "#  0x2316a9be430\n",
    "a=0"
   ]
  },
  {
   "cell_type": "code",
   "execution_count": 14,
   "id": "0727ea8e",
   "metadata": {},
   "outputs": [
    {
     "data": {
      "text/plain": [
       "0"
      ]
     },
     "execution_count": 14,
     "metadata": {},
     "output_type": "execute_result"
    }
   ],
   "source": [
    "a"
   ]
  },
  {
   "cell_type": "code",
   "execution_count": 15,
   "id": "62340683",
   "metadata": {},
   "outputs": [
    {
     "data": {
      "text/plain": [
       "9"
      ]
     },
     "execution_count": 15,
     "metadata": {},
     "output_type": "execute_result"
    }
   ],
   "source": [
    "a=9\n",
    "a"
   ]
  },
  {
   "cell_type": "code",
   "execution_count": null,
   "id": "fe4894ac",
   "metadata": {},
   "outputs": [],
   "source": []
  }
 ],
 "metadata": {
  "kernelspec": {
   "display_name": "Python 3 (ipykernel)",
   "language": "python",
   "name": "python3"
  },
  "language_info": {
   "codemirror_mode": {
    "name": "ipython",
    "version": 3
   },
   "file_extension": ".py",
   "mimetype": "text/x-python",
   "name": "python",
   "nbconvert_exporter": "python",
   "pygments_lexer": "ipython3",
   "version": "3.9.7"
  }
 },
 "nbformat": 4,
 "nbformat_minor": 5
}
